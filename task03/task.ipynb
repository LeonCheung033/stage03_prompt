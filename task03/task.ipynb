{
 "cells": [
  {
   "cell_type": "markdown",
   "id": "a6eedf20",
   "metadata": {},
   "source": [
    "# 读取api"
   ]
  },
  {
   "cell_type": "code",
   "execution_count": 2,
   "id": "df0d7e33",
   "metadata": {},
   "outputs": [
    {
     "name": "stdout",
     "output_type": "stream",
     "text": [
      "sk-36b6f45b3331434999140c6e35ea87fd\n"
     ]
    }
   ],
   "source": [
    "import openai\n",
    "import os\n",
    "\n",
    "from dotenv import load_dotenv, find_dotenv\n",
    "_ = load_dotenv(find_dotenv())\n",
    "\n",
    "api_key = os.getenv('API_KEY')\n",
    "print(api_key)"
   ]
  },
  {
   "cell_type": "markdown",
   "id": "19c9b557",
   "metadata": {},
   "source": [
    "# 辅助函数"
   ]
  },
  {
   "cell_type": "code",
   "execution_count": 3,
   "id": "c1866bb3",
   "metadata": {},
   "outputs": [],
   "source": [
    "from openai import OpenAI\n",
    "\n",
    "# for backward compatibility, you can still use `https://api.deepseek.com/v1` as `base_url`.\n",
    "client = OpenAI(api_key=api_key, base_url=\"https://api.deepseek.com\")\n",
    "def get_completion(prompt, model=\"deepseek-chat\"):\n",
    "    messages = [{\"role\": \"user\", \"content\": prompt}]\n",
    "    response = client.chat.completions.create(\n",
    "        model=model,\n",
    "        messages=messages,\n",
    "        max_tokens=1024,\n",
    "        temperature=0,\n",
    "        stream=False\n",
    "    )\n",
    "    # return response.choices[0].message[\"content\"] ❌的, 因为message是一个类的实力\n",
    "    return response.choices[0].message.content"
   ]
  },
  {
   "cell_type": "markdown",
   "id": "da597d99",
   "metadata": {},
   "source": [
    "# 文本分类任务"
   ]
  },
  {
   "cell_type": "code",
   "execution_count": null,
   "id": "29b1838f",
   "metadata": {},
   "outputs": [
    {
     "name": "stdout",
     "output_type": "stream",
     "text": [
      "['国家', '电视剧', '电影', '城市', '人物']\n"
     ]
    }
   ],
   "source": [
    "context = f\"\"\"\n",
    "1. 加拿大（英语/法语：Canada），首都渥太华，位于北美洲北部。东临大西洋，西濒太平洋，西北部邻美国阿拉斯加州，南接美国本土，北靠北冰洋。气候大部分为亚寒带针叶林气候和湿润大陆性气候，北部极地区域为极地长寒气候。\n",
    "2. 《琅琊榜》是由山东影视传媒集团、山东影视制作有限公司、北京儒意欣欣影业投资有限公司、北京和颂天地影视文化有限公司、北京圣基影业有限公司、东阳正午阳光影视有限公司联合出品，由孔笙、李雪执导，胡歌、刘涛、王凯、黄维德、陈龙、吴磊、高鑫等主演的古装剧。\n",
    "3. 《满江红》是由张艺谋执导，沈腾、易烊千玺、张译、雷佳音、岳云鹏、王佳怡领衔主演，潘斌龙、余皑磊主演，郭京飞、欧豪友情出演，魏翔、张弛、黄炎特别出演，许静雅、蒋鹏宇、林博洋、飞凡、任思诺、陈永胜出演的悬疑喜剧电影。\n",
    "4. 布宜诺斯艾利斯（Buenos Aires，华人常简称为布宜诺斯）是阿根廷共和国（the Republic of Argentina，República Argentina）的首都和最大城市，位于拉普拉塔河南岸、南美洲东南部、河对岸为乌拉圭东岸共和国。\n",
    "5. 张译（原名张毅），1978年2月17日出生于黑龙江省哈尔滨市，中国内地男演员。1997年至2006年服役于北京军区政治部战友话剧团。2006年，主演军事励志题材电视剧《士兵突击》。\n",
    "\"\"\"\n",
    "\n",
    "object = f\"\"\"\n",
    "将提供的五段文本描述分类为各自代表的实体类型。\n",
    "\"\"\"\n",
    "style = f\"\"\"\n",
    "以清晰、简洁的列表形式提供响应，列表中的每个元素对应描述的实体类型，按描述的顺序排列。\n",
    "\"\"\"\n",
    "\n",
    "tone = f\"\"\"\n",
    "使用专业、客观的语气，确保响应准确且专注于分类任务。\n",
    "\"\"\"\n",
    "\n",
    "audience = f\"\"\"\n",
    "响应面向技术受众，例如研究人员或开发者，他们期望得到精准且结构化的输出。\n",
    "\"\"\"\n",
    "\n",
    "response = f\"\"\"\n",
    "返回一个包含与context中句子条数数量一致的字符串的列表，每个字符串表示对应描述的实体类型。例如：['xx', 'xx', ...]。\n",
    "\"\"\"\n",
    "\n",
    "prompt = f\"\"\"\n",
    "**context**：  \n",
    "{context}\n",
    "\n",
    "**object**：  \n",
    "{object}\n",
    "\n",
    "**style**：  \n",
    "{style}\n",
    "\n",
    "**tone**：  \n",
    "{tone}\n",
    "\n",
    "**audience**：  \n",
    "{audience}\n",
    "\n",
    "**response**：  \n",
    "{response}\n",
    "\"\"\"\n",
    "\n",
    "response = get_completion(prompt)\n",
    "print(response)"
   ]
  },
  {
   "cell_type": "markdown",
   "id": "03cba61c",
   "metadata": {},
   "source": [
    "## 文本匹配任务"
   ]
  },
  {
   "cell_type": "code",
   "execution_count": null,
   "id": "e0a74e51",
   "metadata": {},
   "outputs": [
    {
     "name": "stdout",
     "output_type": "stream",
     "text": [
      "['相似', '相似', '不相似']\n"
     ]
    }
   ],
   "source": [
    "context = f\"\"\"\n",
    "1. ('如何修改头像', '可以通过上传图片修改头像吗')\n",
    "2. ('王者荣耀司马懿连招', '王者荣耀司马懿有什么技巧')\n",
    "3. ('王者荣耀司马懿连招', '历史上司马懿真的被诸葛亮空城计骗了吗')\n",
    "\"\"\"\n",
    "object = f\"\"\"\n",
    "对提供的文本中的每个元组中的句子对进行相似度识别。\n",
    "\"\"\"\n",
    "style = f\"\"\"\n",
    "以清晰、简洁的列表形式提供响应，列表中的每个元素对应相似度识别的结果（相似或者不相似），按描述的顺序排列。\n",
    "\"\"\"\n",
    "\n",
    "tone = f\"\"\"\n",
    "使用专业、客观的语气，确保响应准确且专注于分类任务。\n",
    "\"\"\"\n",
    "audience = f\"\"\"\n",
    "响应面向技术受众，例如研究人员或开发者，他们期望得到精准且结构化的输出。\n",
    "\"\"\"\n",
    "\n",
    "response = f\"\"\"\n",
    "返回一个字符串数量与context中句子条数一致的字符串列表，每个字符串表示对应元组中句子对的相似度识别的结果（相似或者不相似）。例如：['xx', 'xx', ...]。\n",
    "\"\"\"\n",
    "\n",
    "prompt = f\"\"\"\n",
    "**context**：  \n",
    "{context}\n",
    "\n",
    "**object**：  \n",
    "{object}\n",
    "\n",
    "**style**：  \n",
    "{style}\n",
    "\n",
    "**tone**：  \n",
    "{tone}\n",
    "\n",
    "**audience**：  \n",
    "{audience}\n",
    "\n",
    "**response**：  \n",
    "{response}\n",
    "\"\"\"\n",
    "\n",
    "response = get_completion(prompt)\n",
    "print(response)"
   ]
  },
  {
   "cell_type": "markdown",
   "id": "b248a645",
   "metadata": {},
   "source": [
    "# 信息抽取任务"
   ]
  },
  {
   "cell_type": "code",
   "execution_count": null,
   "id": "36d27ac2",
   "metadata": {},
   "outputs": [
    {
     "name": "stdout",
     "output_type": "stream",
     "text": [
      "```json\n",
      "{\n",
      "  \"琅琊榜\": {\n",
      "    \"context\": \"《琅琊榜》是由山东影视传媒集团、山东影视制作有限公司、北京儒意欣欣影业投资有限公司、北京和颂天地影视文化有限公司、北京圣基影业有限公司、东阳正午阳光影视有限公司联合出品，由孔笙、李雪执导，胡歌、刘涛、王凯、黄维德、陈龙、吴磊、高鑫等主演的古装剧。\",\n",
      "    \"answers\": {\n",
      "      \"导演\": [\"孔笙\", \"李雪\"],\n",
      "      \"演员\": [\"胡歌\", \"刘涛\", \"王凯\", \"黄维德\", \"陈龙\", \"吴磊\", \"高鑫\"],\n",
      "      \"题材\": \"古装剧\",\n",
      "      \"出品方\": [\"山东影视传媒集团\", \"山东影视制作有限公司\", \"北京儒意欣欣影业投资有限公司\", \"北京和颂天地影视文化有限公司\", \"北京圣基影业有限公司\", \"东阳正午阳光影视有限公司\"],\n",
      "      \"实体类型\": \"电视剧\"\n",
      "    }\n",
      "  },\n",
      "  \"满江红\": {\n",
      "    \"context\": \"《满江红》是由张艺谋执导，沈腾、易烊千玺、张译、雷佳音、岳云鹏、王佳怡领衔主演，潘斌龙、余皑磊主演，郭京飞、欧豪友情出演，魏翔、张弛、黄炎特别出演，许静雅、蒋鹏宇、林博洋、飞凡、任思诺、陈永胜出演的悬疑喜剧电影。\",\n",
      "    \"answers\": {\n",
      "      \"导演\": \"张艺谋\",\n",
      "      \"演员\": [\"沈腾\", \"易烊千玺\", \"张译\", \"雷佳音\", \"岳云鹏\", \"王佳怡\", \"潘斌龙\", \"余皑磊\", \"郭京飞\", \"欧豪\", \"魏翔\", \"张弛\", \"黄炎\", \"许静雅\", \"蒋鹏宇\", \"林博洋\", \"飞凡\", \"任思诺\", \"陈永胜\"],\n",
      "      \"题材\": \"悬疑喜剧电影\",\n",
      "      \"出品方\": \"原文中未提及\",\n",
      "      \"实体类型\": \"电视剧\"\n",
      "    }\n",
      "  },\n",
      "  \"张译\": {\n",
      "    \"context\": \"张译（原名张毅），1978年2月17日出生于黑龙江省哈尔滨市，中国内地男演员。1997年至2006年服役于北京军区政治部战友话剧团。2006年，主演军事励志题材电视剧《士兵突击》。\",\n",
      "    \"answers\": {\n",
      "      \"姓名\": \"张译\",\n",
      "      \"性别\": \"男\",\n",
      "      \"出生日期\": \"1978年2月17日\",\n",
      "      \"出生地点\": \"黑龙江省哈尔滨市\",\n",
      "      \"职业\": \"演员\",\n",
      "      \"获得奖项\": \"原文中未提及\",\n",
      "      \"实体类型\": \"人物\"\n",
      "    }\n",
      "  }\n",
      "}\n",
      "```\n"
     ]
    }
   ],
   "source": [
    "context = f\"\"\"\n",
    "1.《琅琊榜》是由山东影视传媒集团、山东影视制作有限公司、北京儒意欣欣影业投资有限公司、北京和颂天地影视文化有限公司、北京圣基影业有限公司、东阳正午阳光影视有限公司联合出品，由孔笙、李雪执导，胡歌、刘涛、王凯、黄维德、陈龙、吴磊、高鑫等主演的古装剧。\n",
    "2.《满江红》是由张艺谋执导，沈腾、易烊千玺、张译、雷佳音、岳云鹏、王佳怡领衔主演，潘斌龙、余皑磊主演，郭京飞、欧豪友情出演，魏翔、张弛、黄炎特别出演，许静雅、蒋鹏宇、林博洋、飞凡、任思诺、陈永胜出演的悬疑喜剧电影。\n",
    "3. 张译（原名张毅），1978年2月17日出生于黑龙江省哈尔滨市，中国内地男演员。1997年至2006年服役于北京军区政治部战友话剧团。2006年，主演军事励志题材电视剧《士兵突击》。\n",
    "\"\"\"\n",
    "# 定义不同实体下的具备属性\n",
    "schema = {\n",
    "    '人物': ['姓名', '性别', '出生日期', '出生地点', '职业', '获得奖项', '实体类型'],\n",
    "    '书籍': ['作者', '类型', '发行时间', '定价', '实体类型'],\n",
    "    '电视剧': ['导演', '演员', '题材', '出品方', '实体类型']\n",
    "}\n",
    "\n",
    "object = f\"\"\"\n",
    "对提供的文本中的每条句子进行实体识别，并且识别完成之后按照{schema}中的格式进行信息抽取和汇总成一个json字典。\n",
    "\"\"\"\n",
    "\n",
    "style = f\"\"\"\n",
    "以清晰、简洁的提供响应。\n",
    "\"\"\"\n",
    "\n",
    "tone = f\"\"\"\n",
    "使用专业、客观的语气，确保响应准确且专注于识别以及信息抽取任务。\n",
    "\"\"\"\n",
    "audience = f\"\"\"\n",
    "响应面向技术受众，例如研究人员或开发者，他们期望得到精准且结构化的输出。\n",
    "\"\"\"\n",
    "\n",
    "response = f\"\"\"\n",
    "返回一个键数量与context中句子条数一致的json格式字典，\n",
    "键为{schema}中实体的名称，\n",
    "值为'context'和’answers', \n",
    "context为原文，\n",
    "answers为一个按照{schema}中对应实体的属性字典，键为属性名称，值为属性值。\n",
    "如果原文没有提及该属性，则对应字段的取值为“原文中未提及”\n",
    "\"\"\"\n",
    "\n",
    "prompt = f\"\"\"\n",
    "**context**：  \n",
    "{context}\n",
    "\n",
    "**object**：  \n",
    "{object}\n",
    "\n",
    "**style**：  \n",
    "{style}\n",
    "\n",
    "**tone**：  \n",
    "{tone}\n",
    "\n",
    "**audience**：  \n",
    "{audience}\n",
    "\n",
    "**response**：  \n",
    "{response}\n",
    "\"\"\"\n",
    "\n",
    "res = get_completion(prompt)\n",
    "print(res)"
   ]
  }
 ],
 "metadata": {
  "kernelspec": {
   "display_name": "llm_pytorch_0409",
   "language": "python",
   "name": "python3"
  },
  "language_info": {
   "codemirror_mode": {
    "name": "ipython",
    "version": 3
   },
   "file_extension": ".py",
   "mimetype": "text/x-python",
   "name": "python",
   "nbconvert_exporter": "python",
   "pygments_lexer": "ipython3",
   "version": "3.12.9"
  }
 },
 "nbformat": 4,
 "nbformat_minor": 5
}

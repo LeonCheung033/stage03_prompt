{
 "cells": [
  {
   "cell_type": "markdown",
   "id": "8865b74a",
   "metadata": {},
   "source": [
    "# p2"
   ]
  },
  {
   "cell_type": "markdown",
   "id": "e0beff61",
   "metadata": {},
   "source": [
    "## 准备工作"
   ]
  },
  {
   "cell_type": "code",
   "execution_count": 1,
   "id": "4acd2202",
   "metadata": {},
   "outputs": [
    {
     "name": "stdout",
     "output_type": "stream",
     "text": [
      "sk-36b6f45b3331434999140c6e35ea87fd\n"
     ]
    }
   ],
   "source": [
    "import openai\n",
    "import os\n",
    "\n",
    "from dotenv import load_dotenv, find_dotenv\n",
    "_ = load_dotenv(find_dotenv())\n",
    "\n",
    "api_key = os.getenv('API_KEY')\n",
    "print(api_key)"
   ]
  },
  {
   "cell_type": "markdown",
   "id": "aa207f69",
   "metadata": {},
   "source": [
    "## 辅助函数"
   ]
  },
  {
   "cell_type": "code",
   "execution_count": 2,
   "id": "8a6c407e",
   "metadata": {},
   "outputs": [],
   "source": [
    "from openai import OpenAI\n",
    "\n",
    "# for backward compatibility, you can still use `https://api.deepseek.com/v1` as `base_url`.\n",
    "client = OpenAI(api_key=api_key, base_url=\"https://api.deepseek.com\")\n"
   ]
  },
  {
   "cell_type": "code",
   "execution_count": 15,
   "id": "2a944a01",
   "metadata": {},
   "outputs": [],
   "source": [
    "def get_completion(prompt, model=\"deepseek-chat\"):\n",
    "    messages = [{\"role\": \"user\", \"content\": prompt}]\n",
    "    response = client.chat.completions.create(\n",
    "        model=model,\n",
    "        messages=messages,\n",
    "        max_tokens=1024,\n",
    "        temperature=0,\n",
    "        stream=False\n",
    "    )\n",
    "    # return response.choices[0].message[\"content\"] ❌的, 因为message是一个类的实力\n",
    "    # print(type(response.choices[0].message))\n",
    "    return response.choices[0].message.content"
   ]
  },
  {
   "cell_type": "markdown",
   "id": "1335a13d",
   "metadata": {},
   "source": [
    "## 原则1：编写清晰明确的指令"
   ]
  },
  {
   "cell_type": "markdown",
   "id": "8c0c6596",
   "metadata": {},
   "source": [
    "### 技巧1：使用分割符清晰地表示输入的不同部分"
   ]
  },
  {
   "cell_type": "markdown",
   "id": "4831d0e7",
   "metadata": {},
   "source": [
    "分隔符可以是任何类似的符号：```,\"\"\",<tag></tag>,<>,:"
   ]
  },
  {
   "cell_type": "code",
   "execution_count": 16,
   "id": "1affa65e",
   "metadata": {},
   "outputs": [
    {
     "name": "stdout",
     "output_type": "stream",
     "text": [
      "为了获得更准确和相关的输出，应提供清晰、具体且详细的提示，而非简短模糊的指令。\n"
     ]
    }
   ],
   "source": [
    "text = f\"\"\"\n",
    "您应该通过表达您希望模型执行的操作提供清晰且尽可能具体。\n",
    "您应该通过提供尽可能清晰和具体的说明来表达您希望模型执行的操作。\n",
    "这将引导模型朝着期望的输出方向发展，并减少收到不相关或不正确响应的机会。 \n",
    "不要将清晰的提示与简短的提示混淆。\n",
    "在许多情况下，更长的提示可以为模型提供更多的清晰度和上下文，这可以导致更详细和相关的输出。\n",
    "\"\"\"\n",
    "prompt = f\"\"\"\n",
    "将由三个反引号分隔的文本总结成一个句子。\n",
    "```{text}```\n",
    "\"\"\"\n",
    "response = get_completion(prompt)\n",
    "print(response)\n"
   ]
  },
  {
   "cell_type": "markdown",
   "id": "8bed77ec",
   "metadata": {},
   "source": [
    "### 技巧2：要求结构化输出 "
   ]
  },
  {
   "cell_type": "markdown",
   "id": "33dc5243",
   "metadata": {},
   "source": [
    "- JSON，HTML"
   ]
  },
  {
   "cell_type": "code",
   "execution_count": 18,
   "id": "930d8f2f",
   "metadata": {},
   "outputs": [
    {
     "name": "stdout",
     "output_type": "stream",
     "text": [
      "```json\n",
      "[\n",
      "  {\n",
      "    \"book_id\": 1,\n",
      "    \"title\": \"迷雾中的钟声\",\n",
      "    \"author\": \"林默然\",\n",
      "    \"genre\": \"悬疑\"\n",
      "  },\n",
      "  {\n",
      "    \"book_id\": 2,\n",
      "    \"title\": \"星河下的茶馆\",\n",
      "    \"author\": \"苏星河\",\n",
      "    \"genre\": \"科幻\"\n",
      "  },\n",
      "  {\n",
      "    \"book_id\": 3,\n",
      "    \"title\": \"青瓦巷的旧时光\",\n",
      "    \"author\": \"陈雨桐\",\n",
      "    \"genre\": \"都市言情\"\n",
      "  }\n",
      "]\n",
      "```\n"
     ]
    }
   ],
   "source": [
    "prompt = f\"\"\"\n",
    "生成三个虚构的中文书名及其作者和类型的清单。\n",
    "使用以下键以JSON格式提供他们：book_id,title,author,genre\n",
    "\"\"\"\n",
    "response = get_completion(prompt)\n",
    "print(response)"
   ]
  },
  {
   "cell_type": "markdown",
   "id": "989f1ecf",
   "metadata": {},
   "source": [
    "### 技巧3：让模型检查条件是否满足"
   ]
  },
  {
   "cell_type": "code",
   "execution_count": null,
   "id": "cf78e55f",
   "metadata": {},
   "outputs": [
    {
     "name": "stdout",
     "output_type": "stream",
     "text": [
      "Completion for Text 1:\n",
      "第 1 步 - 把水烧开。  \n",
      "第 2 步 - 拿起一个杯子并在其中放入一个茶包。  \n",
      "第 3 步 - 将烧开的水倒在茶包上。  \n",
      "第 4 步 - 让茶静置一会儿，使其充分浸泡。  \n",
      "第 5 步 - 几分钟后，取出茶包。  \n",
      "第 6 步 - 根据个人喜好，可以加一些糖或牛奶调味。  \n",
      "第 7 步 - 享用泡好的茶。\n"
     ]
    }
   ],
   "source": [
    "text_1 = f\"\"\"\n",
    "泡一杯茶很简单！ 首先，你需要把水烧开。 当发生这种情况时，拿起一个杯子并在其中放入一个茶包。 一旦水足够热，就把它倒在茶包上。\n",
    "让它静置一会儿，这样茶就可以陡峭了。 几分钟后，取出茶包。 如果你喜欢，你可以加一些糖或牛奶来调味。 \n",
    "就是这样！ 您已经为自己准备了一杯美味的茶来享用。\n",
    "\"\"\"\n",
    "prompt = f\"\"\"\n",
    "您将获得由三重引号分隔的文本。 如果它包含一系列指令，\n",
    "按照以下格式重写这些指令：\n",
    "\n",
    "第 1 步 - ...\n",
    "第 2 步 - …\n",
    "……\n",
    "第 N 步 - …\n",
    "\n",
    "如果文本不包含指令序列，\n",
    "然后简单地写下“没有提供步骤。”\n",
    "\n",
    "\\\"\\\"\\\"{text_1}\\\"\\\"\\\"\n",
    "\"\"\" # 使用转义符号来确保”转义为”\n",
    "response = get_completion(prompt)\n",
    "print(\"Completion for Text 1:\")\n",
    "print(response)"
   ]
  },
  {
   "cell_type": "code",
   "execution_count": 20,
   "id": "240ddb22",
   "metadata": {},
   "outputs": [
    {
     "name": "stdout",
     "output_type": "stream",
     "text": [
      "Completion for Text 2:\n",
      "没有提供步骤。\n"
     ]
    }
   ],
   "source": [
    "text_2 = f\"\"\"\n",
    "今天阳光灿烂，鸟儿在歌唱。 这是去公园散步的好天气。 鲜花盛开，树木在微风中轻轻摇曳。 人们出门在外，享受着宜人的天气。 \n",
    "有的在野餐，有的在玩游戏，有的在草地上放松。 这是在户外度过时光并欣赏大自然之美的完美日子。\n",
    "\"\"\"\n",
    "prompt = f\"\"\"\n",
    "您将获得由三重引号分隔的文本。 如果它包含一系列指令，\n",
    "按照以下格式重写这些指令：\n",
    "\n",
    "第 1 步 - ...\n",
    "第 2 步 - …\n",
    "……\n",
    "第 N 步 - …\n",
    "\n",
    "如果文本不包含指令序列，\n",
    "然后简单地写下“没有提供步骤。”\n",
    "\n",
    "\\\"\\\"\\\"{text_2}\\\"\\\"\\\"\n",
    "\"\"\"\n",
    "response = get_completion(prompt)\n",
    "print(\"Completion for Text 2:\")\n",
    "print(response)\n"
   ]
  },
  {
   "cell_type": "markdown",
   "id": "9e84e384",
   "metadata": {},
   "source": [
    "### 技巧4：少示例（\"Few-shot\"）提示"
   ]
  },
  {
   "cell_type": "markdown",
   "id": "071942ca",
   "metadata": {},
   "source": [
    "模型能利用拥有的少量样本得到类似回答"
   ]
  },
  {
   "cell_type": "code",
   "execution_count": 21,
   "id": "15732ccb",
   "metadata": {},
   "outputs": [
    {
     "name": "stdout",
     "output_type": "stream",
     "text": [
      "<祖父母>：竹子在地下蛰伏四年，仅在一夜间拔节参天；海浪千万次击打礁石，终将顽石雕琢成圆润的卵石；最锋利的剑刃，必经过千次折叠与淬火。\n"
     ]
    }
   ],
   "source": [
    "prompt = f\"\"\"\n",
    "你的任务是以一致的风格回答。\n",
    "\n",
    "<孩子>：教我耐心。\n",
    "\n",
    "<祖父母>： 雕刻最深山谷的河流来自一个谦虚的泉水； 最伟大的交响乐源于一个音符； 最复杂的挂毯始于一根单独的线。\n",
    "\n",
    "<孩子>：教我韧性。\n",
    "\"\"\"\n",
    "response = get_completion(prompt)\n",
    "print(response)\n"
   ]
  },
  {
   "cell_type": "markdown",
   "id": "208aa7cd",
   "metadata": {},
   "source": [
    "## 原则2：给模型足够的“思考”时间"
   ]
  },
  {
   "cell_type": "markdown",
   "id": "d7a02f6d",
   "metadata": {},
   "source": [
    "### 技巧1：明确完成任务所需的步骤"
   ]
  },
  {
   "cell_type": "code",
   "execution_count": 26,
   "id": "f5423abd",
   "metadata": {},
   "outputs": [
    {
     "name": "stdout",
     "output_type": "stream",
     "text": [
      "Completion for prompt 1:\n",
      "杰克和吉尔兄妹在取水途中跌倒受伤但未减冒险精神，回家后得到安慰并继续探索。\n",
      "\n",
      "Jack and Jill siblings fell and got slightly injured during their water-fetching journey but remained adventurous, returning home for comforting hugs before continuing their explorations.  \n",
      "Names: Jack, Jill  \n",
      "\n",
      "```json\n",
      "{\n",
      "  \"English_summary\": \"Jack and Jill siblings fell and got slightly injured during their water-fetching journey but remained adventurous, returning home for comforting hugs before continuing their explorations.\",\n",
      "  \"num_names\": 2\n",
      "}\n",
      "```\n"
     ]
    }
   ],
   "source": [
    "text = f\"\"\"\n",
    "在一个迷人的村庄里，杰克和吉尔兄妹踏上了去山顶取水的旅程出色地。 \n",
    "当他们欢呼雀跃地向上爬时，不幸降临了——杰克被一块石头绊倒，从山上滚下，吉尔也跟着跌倒。\n",
    "虽然受到了轻微的打击，但两人回到家后得到了安慰的拥抱。 尽管发生了事故，他们的冒险精神丝毫未减，继续愉快地探索。\n",
    "\"\"\"\n",
    "# example 1\n",
    "prompt_1 = f\"\"\"\n",
    "执行以下操作：\n",
    "1 - 用 1 个句子总结以下文本，要求被总结的文本已使用三重反引号分隔。\n",
    "2 - 将摘要翻译成英语。\n",
    "3 - 在英语摘要中列出每个名字。\n",
    "4 - 输出包含以下键的 json 对象：English_summary、num_names。\n",
    "\n",
    "用换行符分隔你的答案。\n",
    "\n",
    "文本:\n",
    "```{text}```\n",
    "\"\"\"\n",
    "response = get_completion(prompt_1)\n",
    "print(\"Completion for prompt 1:\")\n",
    "print(response)\n"
   ]
  },
  {
   "cell_type": "code",
   "execution_count": 27,
   "id": "c0aed43d",
   "metadata": {},
   "outputs": [
    {
     "name": "stdout",
     "output_type": "stream",
     "text": [
      "\n",
      "Completion for prompt 2:\n",
      "摘要：杰克和吉尔兄妹在取水途中跌倒受伤，但仍保持冒险精神。  \n",
      "翻译：Siblings Jack and Jill fell and got injured while fetching water but maintained their adventurous spirit.  \n",
      "姓名：杰克, 吉尔  \n",
      "输出 JSON：  \n",
      "```json\n",
      "{\n",
      "  \"english_summary\": \"Siblings Jack and Jill fell and got injured while fetching water but maintained their adventurous spirit.\",\n",
      "  \"num_names\": 2\n",
      "}\n",
      "```\n"
     ]
    }
   ],
   "source": [
    "prompt_2 = f\"\"\"\n",
    "您的任务是执行以下操作：\n",
    "1 - 用 1 句话总结以下由 <> 分隔的文本。\n",
    "2 - 将摘要翻译成英语。\n",
    "3 - 在英语摘要中列出每个名字。\n",
    "4 - 输出包含以下键的 json 对象：english_summary、num_names。\n",
    "\n",
    "使用以下格式：\n",
    "文本：<要总结的文本>\n",
    "摘要：<摘要>\n",
    "翻译：<摘要翻译>\n",
    "姓名：<意大利语摘要中的姓名列表>\n",
    "输出 JSON：<带有摘要和 num_names 的 json>\n",
    "\n",
    "Text: <{text}>\n",
    "\"\"\"\n",
    "response = get_completion(prompt_2)\n",
    "print(\"\\nCompletion for prompt 2:\")\n",
    "print(response)"
   ]
  },
  {
   "cell_type": "markdown",
   "id": "a842ee76",
   "metadata": {},
   "source": [
    "### 技巧2：指导模型在得出结论之前先引导模型解决问题\n"
   ]
  },
  {
   "cell_type": "code",
   "execution_count": 29,
   "id": "ec9434da",
   "metadata": {},
   "outputs": [
    {
     "name": "stdout",
     "output_type": "stream",
     "text": [
      "学生的解决方案中存在一个错误。具体来说，维护费用中的每平方英尺成本被错误地写成了100x，而实际上应该是10x。让我们重新计算一下：\n",
      "\n",
      "**正确的解决方案：**\n",
      "\n",
      "设 \\( x \\) 是以平方英尺为单位的安装尺寸。\n",
      "\n",
      "费用：\n",
      "1. 土地成本：\\( 100x \\)\n",
      "2. 太阳能电池板成本：\\( 250x \\)\n",
      "3. 维护费用：\\( 100,000 + 10x \\)\n",
      "\n",
      "总成本：\n",
      "\\[\n",
      "100x + 250x + 100,000 + 10x = (100x + 250x + 10x) + 100,000 = 360x + 100,000\n",
      "\\]\n",
      "\n",
      "**因此，运营第一年的总成本与平方英尺数的关系是：**\n",
      "\\[\n",
      "\\text{总成本} = 360x + 100,000\n",
      "\\]\n",
      "\n",
      "**错误原因：**\n",
      "学生在维护费用中错误地将每平方英尺的成本写成了 \\( 100x \\)（可能是笔误），而题目中明确说明是“每平方英尺 10 美元”，即 \\( 10x \\)。因此，总成本中的 \\( x \\) 的系数应为 \\( 100 + 250 + 10 = 360 \\)，而不是 \\( 450 \\)。\n"
     ]
    }
   ],
   "source": [
    "prompt = f\"\"\"\n",
    "判断学生的答案是否正确。如果不正确你可以尝试自己来提出一个解决方案\n",
    "\n",
    "问题：\n",
    "我正在建造一个太阳能装置，我需要帮助来计算财务费用。\n",
    "- 土地成本 100 美元/平方英尺\n",
    "- 我可以以 250 美元/平方英尺的价格购买太阳能电池板\n",
    "- 我协商了一份维护合同，每年将花费我 10 万美元，外加每平方英尺 10 美元\n",
    "\n",
    "运营第一年的总成本与平方英尺数的关系是多少？\n",
    "\n",
    "学生的解决方案：\n",
    "设 x 是以平方英尺为单位的安装尺寸。\n",
    "费用：\n",
    "1.土地成本：100x\n",
    "2.太阳能电池板成本：250x\n",
    "3.维护费用：100,000+100x\n",
    "总成本：100x + 250x + 100,000 + 100x = 450x + 100,000\n",
    "\"\"\"\n",
    "response = get_completion(prompt)\n",
    "print(response)\n"
   ]
  },
  {
   "cell_type": "markdown",
   "id": "dd8bfe15",
   "metadata": {},
   "source": [
    "## 模型限制：幻觉"
   ]
  },
  {
   "cell_type": "markdown",
   "id": "0e25a907",
   "metadata": {},
   "source": [
    "前提：Boie 是一家真实的公司，产品名称并非真实存在。"
   ]
  },
  {
   "cell_type": "markdown",
   "id": "17930320",
   "metadata": {},
   "source": [
    "旧模型中幻觉出现可能性比较大，先进模型幻觉出现可能性降低了很多。"
   ]
  },
  {
   "cell_type": "markdown",
   "id": "618dd43a",
   "metadata": {},
   "source": [
    "下面是gpt3.5的回答：\n",
    "<br><br>\n",
    "Boie的AeroGlide UltraSlim智能牙刷是一款高科技的电动牙刷，采用了先进的声波技术，能够提供高效的清洁效果。该牙刷的刷头非常细小，能够轻松进入牙缝和牙龈，清洁效果非常出色。此外，该牙刷还配备了智能感应技术，能够自动调节清洁力度和时间，让你的牙齿更加健康。该牙刷还具有防水设计，可以在淋浴或洗脸时使用，非常方便。总之，Boie的AeroGlide UltraSlim智能牙刷是一款高品质、高效率的电动牙刷，非常适合追求健康口腔的人士使用。\n"
   ]
  },
  {
   "cell_type": "code",
   "execution_count": 30,
   "id": "2eff6963",
   "metadata": {},
   "outputs": [
    {
     "name": "stdout",
     "output_type": "stream",
     "text": [
      "关于 **Boie 的 AeroGlide UltraSlim 智能牙刷**，目前公开信息中似乎没有明确记录这一特定型号的产品。不过，结合 **Boie** 品牌的特点和市场上类似产品的趋势，以下是可能相关的信息和分析：\n",
      "\n",
      "---\n",
      "\n",
      "### 1. **Boie 品牌背景**\n",
      "   - **Boie USA** 是一个专注于可持续个人护理用品的品牌，以环保设计闻名，例如其可更换刷头的牙刷（刷柄耐用，刷头可回收）。\n",
      "   - 产品通常采用 **抗菌硅胶刷毛**，适合敏感牙齿和牙龈，主打环保和旅行友好设计。\n",
      "\n",
      "---\n",
      "\n",
      "### 2. **“AeroGlide UltraSlim” 的可能特点**\n",
      "   - **超薄设计（UltraSlim）**：可能指刷头或刷柄的纤细设计，便于携带或深入清洁。\n",
      "   - **智能功能**：如果标注“智能”，可能包含：\n",
      "     - 蓝牙连接（通过APP记录刷牙习惯）。\n",
      "     - 压力传感器（防止过度用力）。\n",
      "     - 计时提醒（确保刷牙时长）。\n",
      "   - **AeroGlide 技术**：可能暗示某种刷毛或振动技术，提升清洁效率（类似声波震动）。\n",
      "\n",
      "---\n",
      "\n",
      "### 3. **类似产品参考**\n",
      "   - **Boie 的电动牙刷**：目前官网主打手动牙刷，但若推出智能款，可能会延续其环保理念（如可充电电池、可回收刷头）。\n",
      "   - **其他品牌的超薄智能牙刷**：如 **Quip** 或 **Oral-B Slim**，可能具有类似功能。\n",
      "\n",
      "---\n",
      "\n",
      "### 4. **注意事项**\n",
      "   - **核实型号**：建议直接查看 Boie 官网或授权零售商，确认型号名称是否正确，可能是新发布产品或区域限定款。\n",
      "   - **用户评价**：若为新品，可关注科技或牙护博主的评测。\n",
      "\n",
      "---\n",
      "\n",
      "如需更准确的信息，请提供更多细节（如产品图片、功能描述），或直接访问 [Boie 官方网站](https://www.boieusa.com/) 查询。\n"
     ]
    }
   ],
   "source": [
    "prompt = f\"\"\"\n",
    "告诉我有关 Boie 的 AeroGlide UltraSlim 智能牙刷的信息\n",
    "\"\"\"\n",
    "response = get_completion(prompt)\n",
    "print(response)\n"
   ]
  },
  {
   "cell_type": "markdown",
   "id": "b6c7cbd3",
   "metadata": {},
   "source": [
    "# p3 迭代式Prompt开发"
   ]
  },
  {
   "cell_type": "markdown",
   "id": "12d3fb86",
   "metadata": {},
   "source": [
    "## 从产品事实表中生成营销产品描述"
   ]
  },
  {
   "cell_type": "code",
   "execution_count": 31,
   "id": "62dfdaf9",
   "metadata": {},
   "outputs": [],
   "source": [
    "fact_sheet_chair = \"\"\"\n",
    "概述\n",
    "- 美丽的中世纪办公家具系列的一部分，\n",
    "包括文件柜、书桌、书柜、会议桌等。\n",
    "- 外壳颜色和底座饰面的多种选择。\n",
    "- 提供 10 种织物和 6 种皮革选项的塑料背面和正面装饰 (SWC-100) 或全装饰 (SWC-110)。\n",
    "- 底漆选项有：不锈钢、哑光黑、亮白或镀铬。\n",
    "- 椅子可带或不带扶手。\n",
    "- 适用于家庭或企业环境。\n",
    "- 符合合同使用条件。\n",
    "\n",
    "建造\n",
    "- 5 轮塑料涂层铝制底座。\n",
    "- 气动座椅调节，便于升高/降低动作。\n",
    "\n",
    "规格\n",
    "- 宽度 53 厘米 | 20.87”\n",
    "- 深度 51 厘米 | 20.08”\n",
    "- 身高 80 厘米 | 31.50”\n",
    "- 座椅高度 44 厘米 | 17.32”\n",
    "- 座椅深度 41 厘米 | 16.14”\n",
    "\n",
    "选项\n",
    "- 软地板或硬地板脚轮选项。\n",
    "- 座椅泡沫密度的两种选择：\n",
    "  中（1.8 磅/立方英尺）或高（2.8 磅/立方英尺）\n",
    "- 无扶手或 8 位 PU 扶手\n",
    "\n",
    "材料\n",
    "壳基滑翔机\n",
    "- 带改性尼龙 PA6/PA66 涂层的铸铝。\n",
    "- 外壳厚度：10 毫米。\n",
    "座位\n",
    "- HD36 泡沫\n",
    "\n",
    "原产地\n",
    "- 意大利\n",
    "\"\"\"\n"
   ]
  },
  {
   "cell_type": "code",
   "execution_count": 32,
   "id": "1a602418",
   "metadata": {},
   "outputs": [
    {
     "name": "stdout",
     "output_type": "stream",
     "text": [
      "```\n",
      "产品描述：\n",
      "\n",
      "中世纪风格办公椅——优雅与功能的完美结合\n",
      "\n",
      "这款精致的中世纪风格办公椅是我们备受推崇的办公家具系列中的一员，与文件柜、书桌和会议桌等配套产品共同打造和谐统一的办公空间。无论您需要打造专业办公环境还是提升家庭办公品质，这款椅子都能满足您的需求。\n",
      "\n",
      "【个性化定制】\n",
      "- 提供多种外壳颜色和底座饰面选择，完美匹配您的空间风格\n",
      "- 10种织物和6种皮革选项，可选择塑料背/前装饰(SWC-100)或全装饰(SWC-110)\n",
      "- 四种底漆选择：不锈钢、哑光黑、亮白或镀铬\n",
      "- 可选配8位PU扶手或选择无扶手设计\n",
      "\n",
      "【卓越工艺】\n",
      "- 采用5轮塑料涂层铝制底座，稳固耐用\n",
      "- 气动座椅调节系统，轻松实现高度调节\n",
      "- 外壳采用改性尼龙PA6/PA66涂层的铸铝材质，10毫米厚度确保长久使用\n",
      "- 高密度HD36泡沫座椅，提供两种密度选择(1.8/2.8磅/立方英尺)\n",
      "\n",
      "【实用设计】\n",
      "- 提供软地板和硬地板专用脚轮选项\n",
      "- 符合专业合同使用标准\n",
      "- 意大利设计制造，品质保证\n",
      "\n",
      "【尺寸规格】\n",
      "- 整体尺寸：53cm(宽)×51cm(深)×80cm(高)\n",
      "- 座椅高度：44cm(可调节)\n",
      "- 座椅深度：41cm\n",
      "\n",
      "这款兼具美观与功能性的办公椅是追求品质人士的理想选择，无论是企业采购还是个人使用，都能为您的工作空间增添一抹优雅的中世纪风情。\n",
      "```\n"
     ]
    }
   ],
   "source": [
    "prompt = f\"\"\"\n",
    "您的任务是帮助营销团队根据技术说明书为产品的零售网站创建描述。\n",
    "\n",
    "根据技术规范中提供的信息编写产品说明，并用三重反引号分隔。\n",
    "\n",
    "技术规格：```{fact_sheet_chair}```\n",
    "\"\"\"\n",
    "response = get_completion(prompt)\n",
    "print(response)\n"
   ]
  },
  {
   "cell_type": "markdown",
   "id": "70038293",
   "metadata": {},
   "source": [
    "### 问题1：文本太长"
   ]
  },
  {
   "cell_type": "markdown",
   "id": "8800569f",
   "metadata": {},
   "source": [
    "大模型不是很擅长统计字数，可以考虑使用三句话之类的来代替"
   ]
  },
  {
   "cell_type": "code",
   "execution_count": 35,
   "id": "facc509c",
   "metadata": {},
   "outputs": [
    {
     "name": "stdout",
     "output_type": "stream",
     "text": [
      "```\n",
      "中世纪风格办公家具，多款颜色饰面可选。  \n",
      "10种织物+6种皮革搭配，带扶手设计。  \n",
      "气动升降，5轮铝制底座，适用家居/办公。  \n",
      "意大利制造，坚固舒适。  \n",
      "```\n"
     ]
    }
   ],
   "source": [
    "prompt = f\"\"\"\n",
    "您的任务是帮助营销团队根据技术说明书为产品的零售网站创建描述。\n",
    "\n",
    "根据技术规范中提供的信息编写产品说明，并用三重反引号分隔。\n",
    "\n",
    "最多使用 50 个汉字。\n",
    "\n",
    "技术规格：```{fact_sheet_chair}```\n",
    "\"\"\"\n",
    "response = get_completion(prompt)\n",
    "print(response)\n"
   ]
  },
  {
   "cell_type": "markdown",
   "id": "3b95f04d",
   "metadata": {},
   "source": [
    "### 问题2：文本侧重于错误的细节"
   ]
  },
  {
   "cell_type": "markdown",
   "id": "884463fc",
   "metadata": {},
   "source": [
    "要求模型关注与目标受众相关的方面。"
   ]
  },
  {
   "cell_type": "code",
   "execution_count": 36,
   "id": "ba7056ae",
   "metadata": {},
   "outputs": [
    {
     "name": "stdout",
     "output_type": "stream",
     "text": [
      "```\n",
      "中世纪风格办公椅，意大利制造。  \n",
      "铸铝底座，尼龙涂层，10毫米厚外壳。  \n",
      "可选不锈钢、哑光黑等底漆，10种织物或6种皮革饰面。  \n",
      "气动调节座椅，HD36高密度泡沫，可选扶手。  \n",
      "适用家庭/办公，符合商用标准。  \n",
      "```\n"
     ]
    }
   ],
   "source": [
    "prompt = f\"\"\"\n",
    "您的任务是帮助营销团队根据技术说明书为产品的零售网站创建描述。\n",
    "\n",
    "根据技术规范中提供的信息编写产品说明，并用三重反引号分隔。\n",
    "\n",
    "该描述适用于家具零售商，因此在本质上应该是技术性的，并着重于产品的制造材料。\n",
    "\n",
    "最多使用 50 个汉字单词。\n",
    "\n",
    "技术规格：```{fact_sheet_chair}```\n",
    "\"\"\"\n",
    "response = get_completion(prompt)\n",
    "print(response)\n"
   ]
  },
  {
   "cell_type": "code",
   "execution_count": 37,
   "id": "6c380f64",
   "metadata": {},
   "outputs": [
    {
     "name": "stdout",
     "output_type": "stream",
     "text": [
      "```\n",
      "这款中世纪风格办公椅是系列家具的一部分，采用铸铝基座搭配改性尼龙涂层（10mm厚），配备气动高度调节和5轮铝制底座。座椅采用HD36高密度泡沫，提供两种密度选择。可选PU扶手或不锈钢/镀铬底漆。外壳提供10种织物或6种皮革选项。意大利制造。产品ID：SWC-100/SWC-110。\n",
      "```\n"
     ]
    }
   ],
   "source": [
    "prompt = f\"\"\"\n",
    "您的任务是帮助营销团队根据技术说明书为产品的零售网站创建描述。\n",
    "\n",
    "根据技术规范中提供的信息编写产品说明，并用三重反引号分隔。\n",
    "\n",
    "该描述适用于家具零售商，因此在本质上应该是技术性的，并着重于产品的制造材料。\n",
    "\n",
    "在描述的末尾，包括技术规范中的每个 7 个字符的产品 ID。\n",
    "\n",
    "最多使用 50 个单词。\n",
    "\n",
    "技术规格：```{fact_sheet_chair}```\n",
    "\"\"\"\n",
    "response = get_completion(prompt)\n",
    "print(response)\n"
   ]
  },
  {
   "cell_type": "markdown",
   "id": "8cb85b9a",
   "metadata": {},
   "source": [
    "\n",
    "### 问题3：描述需要一个产品尺寸表"
   ]
  },
  {
   "cell_type": "markdown",
   "id": "8261d1e8",
   "metadata": {},
   "source": [
    "要求模型提取信息并将其组织成表格。"
   ]
  },
  {
   "cell_type": "code",
   "execution_count": 38,
   "id": "478fa039",
   "metadata": {},
   "outputs": [
    {
     "name": "stdout",
     "output_type": "stream",
     "text": [
      "```html\n",
      "<div>\n",
      "  <p>This elegant mid-century office chair is part of a beautiful furniture collection that includes filing cabinets, desks, bookshelves, and conference tables. The chair features a variety of customization options, including shell colors, base finishes, and upholstery choices (10 fabric and 6 leather options). The base is available in stainless steel, matte black, gloss white, or chrome. Choose between armless or 8-position PU armrests to suit your preference. Designed for both home and business environments, this chair meets contract-grade durability standards.</p>\n",
      "\n",
      "  <p><strong>Construction:</strong> The chair is built with a 5-wheel, plastic-coated aluminum base for smooth mobility. It includes a pneumatic seat adjustment mechanism for easy height customization.</p>\n",
      "\n",
      "  <p><strong>Materials:</strong> The shell base glider is constructed with cast aluminum coated in modified nylon PA6/PA66, ensuring durability with a 10 mm thickness. The seat is padded with high-density HD36 foam for lasting comfort. Available in soft or hard floor caster options and two seat foam densities (medium: 1.8 lb/ft³ or high: 2.8 lb/ft³).</p>\n",
      "\n",
      "  <p><strong>Origin:</strong> Proudly crafted in Italy.</p>\n",
      "\n",
      "  <p>Product ID: SWC-100/SWC-110</p>\n",
      "\n",
      "  <table>\n",
      "    <caption>Product Dimensions</caption>\n",
      "    <tr>\n",
      "      <th>Dimension</th>\n",
      "      <th>Inches</th>\n",
      "    </tr>\n",
      "    <tr>\n",
      "      <td>Width</td>\n",
      "      <td>20.87</td>\n",
      "    </tr>\n",
      "    <tr>\n",
      "      <td>Depth</td>\n",
      "      <td>20.08</td>\n",
      "    </tr>\n",
      "    <tr>\n",
      "      <td>Height</td>\n",
      "      <td>31.50</td>\n",
      "    </tr>\n",
      "    <tr>\n",
      "      <td>Seat Height</td>\n",
      "      <td>17.32</td>\n",
      "    </tr>\n",
      "    <tr>\n",
      "      <td>Seat Depth</td>\n",
      "      <td>16.14</td>\n",
      "    </tr>\n",
      "  </table>\n",
      "</div>\n",
      "```\n"
     ]
    }
   ],
   "source": [
    "prompt = f\"\"\"\n",
    "您的任务是帮助营销团队根据技术说明书为产品的零售网站创建描述。\n",
    "\n",
    "根据技术规范中提供的信息编写产品说明，并用三重反引号分隔。\n",
    "\n",
    "该描述适用于家具零售商，因此在本质上应该是技术性的，并着重于产品的制造材料。\n",
    "\n",
    "在描述的末尾，包括技术规范中的每个 7 个字符的产品 ID。\n",
    "\n",
    "在描述之后，包括一个给出产品尺寸的表格。 该表应该有两列。在第一列中包含维度的名称。 在第二列中仅包含以英寸为单位的测量值。\n",
    "\n",
    "为表格命名为“产品尺寸”。\n",
    "\n",
    "将所有内容格式化为可在网站中使用的 HTML。\n",
    "将说明放在 <div> 元素中。\n",
    "\n",
    "技术规格：```{fact_sheet_chair}```\n",
    "\"\"\"\n",
    "\n",
    "response = get_completion(prompt)\n",
    "print(response)\n"
   ]
  },
  {
   "cell_type": "code",
   "execution_count": 39,
   "id": "20b92b9f",
   "metadata": {},
   "outputs": [
    {
     "data": {
      "text/html": [
       "```html\n",
       "<div>\n",
       "  <p>This elegant mid-century office chair is part of a beautiful furniture collection that includes filing cabinets, desks, bookshelves, and conference tables. The chair features a variety of customization options, including shell colors, base finishes, and upholstery choices (10 fabric and 6 leather options). The base is available in stainless steel, matte black, gloss white, or chrome. Choose between armless or 8-position PU armrests to suit your preference. Designed for both home and business environments, this chair meets contract-grade durability standards.</p>\n",
       "\n",
       "  <p><strong>Construction:</strong> The chair is built with a 5-wheel, plastic-coated aluminum base for smooth mobility. It includes a pneumatic seat adjustment mechanism for easy height customization.</p>\n",
       "\n",
       "  <p><strong>Materials:</strong> The shell base glider is constructed with cast aluminum coated in modified nylon PA6/PA66, ensuring durability with a 10 mm thickness. The seat is padded with high-density HD36 foam for lasting comfort. Available in soft or hard floor caster options and two seat foam densities (medium: 1.8 lb/ft³ or high: 2.8 lb/ft³).</p>\n",
       "\n",
       "  <p><strong>Origin:</strong> Proudly crafted in Italy.</p>\n",
       "\n",
       "  <p>Product ID: SWC-100/SWC-110</p>\n",
       "\n",
       "  <table>\n",
       "    <caption>Product Dimensions</caption>\n",
       "    <tr>\n",
       "      <th>Dimension</th>\n",
       "      <th>Inches</th>\n",
       "    </tr>\n",
       "    <tr>\n",
       "      <td>Width</td>\n",
       "      <td>20.87</td>\n",
       "    </tr>\n",
       "    <tr>\n",
       "      <td>Depth</td>\n",
       "      <td>20.08</td>\n",
       "    </tr>\n",
       "    <tr>\n",
       "      <td>Height</td>\n",
       "      <td>31.50</td>\n",
       "    </tr>\n",
       "    <tr>\n",
       "      <td>Seat Height</td>\n",
       "      <td>17.32</td>\n",
       "    </tr>\n",
       "    <tr>\n",
       "      <td>Seat Depth</td>\n",
       "      <td>16.14</td>\n",
       "    </tr>\n",
       "  </table>\n",
       "</div>\n",
       "```"
      ],
      "text/plain": [
       "<IPython.core.display.HTML object>"
      ]
     },
     "metadata": {},
     "output_type": "display_data"
    }
   ],
   "source": [
    "from IPython.display import display, HTML\n",
    "\n",
    "display(HTML(response))\n"
   ]
  },
  {
   "cell_type": "markdown",
   "id": "ef967c98",
   "metadata": {},
   "source": [
    "# p4 总结文本"
   ]
  },
  {
   "cell_type": "markdown",
   "id": "15577485",
   "metadata": {},
   "source": [
    "## 需要总结的文本"
   ]
  },
  {
   "cell_type": "code",
   "execution_count": 40,
   "id": "3920aa00",
   "metadata": {},
   "outputs": [],
   "source": [
    "prod_review = \"\"\"\n",
    "为我女儿的生日买了这个熊猫毛绒玩具，她很喜欢它，并且会带着它去任何地方。 它柔软而超级可爱，它的脸看起来很友善。 \n",
    "虽然我付出的代价有点小。 我认为同样的价格可能还有其他更大的选择。 它比预期提前一天到达，所以在我把它送给她之前我必须自己玩它。\n",
    "\"\"\"\n"
   ]
  },
  {
   "cell_type": "markdown",
   "id": "215c879d",
   "metadata": {},
   "source": [
    "### 限制词数/句数/字符数进行总结"
   ]
  },
  {
   "cell_type": "code",
   "execution_count": 41,
   "id": "bd09e75a",
   "metadata": {},
   "outputs": [
    {
     "name": "stdout",
     "output_type": "stream",
     "text": [
      "```\n",
      "可爱的熊猫毛绒玩具，女儿爱不释手，柔软友善。价格略高，尺寸偏小，但提前到货。  \n",
      "```\n"
     ]
    }
   ],
   "source": [
    "prompt = f\"\"\"\n",
    "您的任务是生成来自电子商务网站的产品评论的简短摘要。\n",
    "\n",
    "总结下面的评论，用三个反引号分隔，最多 30 个单词。\n",
    "\n",
    "评论：```{prod_review}```\n",
    "\"\"\"\n",
    "\n",
    "response = get_completion(prompt)\n",
    "print(response)\n"
   ]
  },
  {
   "cell_type": "markdown",
   "id": "f9352e62",
   "metadata": {},
   "source": [
    "### 以运输和交付为重点进行总结"
   ]
  },
  {
   "cell_type": "code",
   "execution_count": 42,
   "id": "34196de5",
   "metadata": {},
   "outputs": [
    {
     "name": "stdout",
     "output_type": "stream",
     "text": [
      "```  \n",
      "毛绒玩具提前一天送达，包装完好。女儿非常喜欢，但认为价格偏高且尺寸偏小。  \n",
      "```\n"
     ]
    }
   ],
   "source": [
    "prompt = f\"\"\"\n",
    "您的任务是从电子商务网站生成产品评论的简短摘要，以向运输部门提供反馈。\n",
    "\n",
    "总结以下评论，用三个反引号分隔，最多 30 个单词，并重点关注提及产品运输和交付的任何方面。\n",
    "\n",
    "评论：```{prod_review}```\n",
    "\"\"\"\n",
    "\n",
    "response = get_completion(prompt)\n",
    "print(response)\n"
   ]
  },
  {
   "cell_type": "markdown",
   "id": "30f7c24d",
   "metadata": {},
   "source": [
    "### 以价格和价值为重点进行总结"
   ]
  },
  {
   "cell_type": "code",
   "execution_count": 43,
   "id": "21441097",
   "metadata": {},
   "outputs": [
    {
     "name": "stdout",
     "output_type": "stream",
     "text": [
      "```这款熊猫毛绒玩具柔软可爱，孩子非常喜欢，但价格略高，尺寸偏小，性价比不如同类产品。物流较快。```\n"
     ]
    }
   ],
   "source": [
    "prompt = f\"\"\"\n",
    "您的任务是从电子商务网站生成产品评论的简短摘要，以向负责确定产品价格的定价部门提供反馈。\n",
    "\n",
    "总结以下评论，用三重反引号分隔，最多 30 个单词，并着重于与价格和感知价值相关的任何方面。\n",
    "\n",
    "评论：```{prod_review}```\n",
    "\"\"\"\n",
    "\n",
    "response = get_completion(prompt)\n",
    "print(response)\n"
   ]
  },
  {
   "cell_type": "markdown",
   "id": "dd7abf1c",
   "metadata": {},
   "source": [
    "### 尝试使用“提取”替代“总结”"
   ]
  },
  {
   "cell_type": "code",
   "execution_count": 44,
   "id": "172ee91b",
   "metadata": {},
   "outputs": [
    {
     "name": "stdout",
     "output_type": "stream",
     "text": [
      "\"\"\"\n",
      "比预期提前一天到达\n",
      "\"\"\"\n"
     ]
    }
   ],
   "source": [
    "prompt = f\"\"\"\n",
    "您的任务是从电子商务网站的产品评论中提取相关信息，以向运输部门提供反馈。\n",
    "\n",
    "从下面的评论中，用三重引号分隔提取与运输和交付相关的信息。 限制在 30 个字以内。\n",
    "\n",
    "评论：```{prod_review}```\n",
    "\"\"\"\n",
    "\n",
    "response = get_completion(prompt)\n",
    "print(response)\n"
   ]
  },
  {
   "cell_type": "markdown",
   "id": "5528b106",
   "metadata": {},
   "source": [
    "## 对多个产品评论进行总结"
   ]
  },
  {
   "cell_type": "code",
   "execution_count": 46,
   "id": "a748d1f5",
   "metadata": {},
   "outputs": [],
   "source": [
    "review_1 = prod_review \n",
    "\n",
    "# review for a standing lamp\n",
    "review_2 = \"\"\"\n",
    "我需要一盏适合卧室的漂亮台灯，这款台灯额外带有储物功能，价格也不高。收货很快——2天就到了。\n",
    "在运输过程中，台灯的拉绳断了，公司很高兴地给我寄了一个新的。新拉绳也在几天之内送到了。\n",
    "组装起来很简单。后来我发现缺了一个零件，于是联系了他们的客服，他们很快就给我寄来了缺失的零件！\n",
    "在我看来，这是一家非常关心客户和产品的优秀公司。\n",
    "\"\"\"\n",
    "\n",
    "# review for an electric toothbrush\n",
    "review_3 = \"\"\"\n",
    "我的牙科保健师推荐我使用电动牙刷，所以我选择了这款。迄今为止，电池续航似乎相当令人印象深刻。\n",
    "在首次充电并将充电器插头插入一个星期以调节电池后，我拔掉了充电器，用同一次充电在过去的三个星期里每天刷两次牙。\n",
    "但是牙刷头太小了。我见过比这个大的婴儿牙刷。我希望牙刷头更大一些，刷毛长度不同，以便更好地夹在牙齿之间，因为这款牙刷做不到。\n",
    "总的来说，如果你能在50美元左右的价格购买这款牙刷，那它就是一个好交易。制造商的替换刷头相当昂贵，但你可以购买更合理价格的通用刷头。\n",
    "这款牙刷让我觉得每天都像去过牙医一样。我的牙齿感觉闪闪发光的干净！\n",
    "\"\"\"\n",
    "\n",
    "# review for a blender\n",
    "review_4 = \"\"\"\n",
    "那么，在11月份，他们的17件套装系统仍然在季节性促销中，价格大约为49美元，折扣大约一半，但出于某种原因（称之为价格欺诈），\n",
    "在12月的第二个星期，同样的系统价格上涨到70至89美元之间。而11件套装系统的价格也从之前的促销价29美元上涨了大约10美元左右。\n",
    "所以外观看起来还不错，但如果你看底座，刀片锁定的部分看起来不如几年前的早期版本好，但我计划对它非常温柔（例如，\n",
    "我先在搅拌机中将像豆子、冰块、大米等硬物品压碎，然后将它们在搅拌机中按我想要的份量研磨成粉末，\n",
    "然后切换到搅打刀片以获得更细腻的面粉，制作果昔时先使用十字切割刀片，然后使用平刃刀片，以便需要更细腻/更少纤维时使用）。\n",
    "制作果昔的特殊技巧是，将水果和蔬菜切碎并冷冻（如果使用菠菜-稍微炖软菠菜然后冷冻，准备使用时取出-如果制作果冻，\n",
    "使用中小型食物处理器），这样你可以避免在制作果昔时添加过多的冰。大约一年后，马达发出了奇怪的噪音。我致电客户服务，\n",
    "但保修期已经过期，所以我不得不再买一个。仅供参考：这类产品的整体质量已经下降，\n",
    "所以他们有点依赖品牌认知和消费者忠诚度来维持销售。大约两天就收到了。\n",
    "\"\"\"\n",
    "\n",
    "reviews = [review_1, review_2, review_3, review_4]\n"
   ]
  },
  {
   "cell_type": "code",
   "execution_count": 49,
   "id": "b5a6cebc",
   "metadata": {},
   "outputs": [
    {
     "name": "stdout",
     "output_type": "stream",
     "text": [
      "0 ```\n",
      "可爱的熊猫玩具，女儿爱不释手，柔软友善，价格略高，提前到货。\n",
      "``` \n",
      "\n",
      "1 ```\n",
      "价格实惠、送货快的储物台灯，售后出色，客户服务周到。\n",
      "``` \n",
      "\n",
      "2 ```\n",
      "电池续航强，刷头小但效果佳，性价比高，牙齿清洁出色。\n",
      "``` \n",
      "\n",
      "3 ```\n",
      "价格波动大，质量下降，需小心使用，保修期后马达出问题。\n",
      "``` \n",
      "\n"
     ]
    }
   ],
   "source": [
    "for i in range(len(reviews)):\n",
    "    prompt = f\"\"\"\n",
    "您的任务是从电子商务网站生成一个产品评论的简短摘要。\n",
    "\n",
    "请对下面的评论进行总结，用三个反引号分隔，最多不超过20个单词。\n",
    "\n",
    "评论： ```{reviews[i]}```\n",
    "    \"\"\"\n",
    "\n",
    "    response = get_completion(prompt)\n",
    "    print(i, response, \"\\n\")\n"
   ]
  },
  {
   "cell_type": "markdown",
   "id": "b0617f8f",
   "metadata": {},
   "source": [
    "# p5 语义推理"
   ]
  },
  {
   "cell_type": "markdown",
   "id": "180b55cf",
   "metadata": {},
   "source": [
    "## 产品的评论文本"
   ]
  },
  {
   "cell_type": "code",
   "execution_count": 50,
   "id": "19a9b78c",
   "metadata": {},
   "outputs": [],
   "source": [
    "lamp_review = \"\"\"\n",
    "需要一盏适合卧室的漂亮台灯，这款台灯还有额外的存储空间，价格不高。收到货很快。\n",
    "运输途中灯的拉绳断了，公司很高兴地给我寄了一个新的。几天之内就收到了。\n",
    "组装起来很容易。我遇到了一个缺失的零件，于是联系了他们的客服，他们很快就给我寄来了缺失的部件！\n",
    "Lumina 对我来说是一个非常关心客户和产品的优秀公司！\n",
    "\"\"\"\n"
   ]
  },
  {
   "cell_type": "markdown",
   "id": "cf993065",
   "metadata": {},
   "source": [
    "### 情感（积极/消极）"
   ]
  },
  {
   "cell_type": "code",
   "execution_count": 54,
   "id": "38d30399",
   "metadata": {},
   "outputs": [
    {
     "name": "stdout",
     "output_type": "stream",
     "text": [
      "积极的\n"
     ]
    }
   ],
   "source": [
    "prompt = f\"\"\"\n",
    "以下产品评论的情感是什么？用一个形容词来回答。评论文本由三个反引号分隔。\n",
    "\n",
    "评论文本：'''{lamp_review}'''\n",
    "\"\"\"\n",
    "response = get_completion(prompt)\n",
    "print(response)\n"
   ]
  },
  {
   "cell_type": "markdown",
   "id": "de477f56",
   "metadata": {},
   "source": [
    "### 识别情感类型"
   ]
  },
  {
   "cell_type": "code",
   "execution_count": 52,
   "id": "3b2b33f0",
   "metadata": {},
   "outputs": [
    {
     "name": "stdout",
     "output_type": "stream",
     "text": [
      "正面\n"
     ]
    }
   ],
   "source": [
    "prompt = f\"\"\"\n",
    "以下产品评论的情感是什么？评论文本由三个反引号分隔。\n",
    "\n",
    "将您的答案以单个词汇给出，选择“正面”或“负面”。\n",
    "\n",
    "评论文本：'''{lamp_review}'''\n",
    "\"\"\"\n",
    "response = get_completion(prompt)\n",
    "print(response)\n"
   ]
  },
  {
   "cell_type": "markdown",
   "id": "02f6567b",
   "metadata": {},
   "source": [
    "### 识别愤怒"
   ]
  },
  {
   "cell_type": "code",
   "execution_count": 55,
   "id": "5fd8990d",
   "metadata": {},
   "outputs": [
    {
     "name": "stdout",
     "output_type": "stream",
     "text": [
      "no\n"
     ]
    }
   ],
   "source": [
    "prompt = f\"\"\"\n",
    "作者是否在以下评论中表达了愤怒？评论由三个反引号分隔。请回答“yes”或“no”。\n",
    "\n",
    "评论内容：'''{lamp_review}'''\n",
    "\"\"\"\n",
    "response = get_completion(prompt)\n",
    "print(response)\n"
   ]
  },
  {
   "cell_type": "markdown",
   "id": "99d90c02",
   "metadata": {},
   "source": [
    "### 从客户评论中提取产品和公司名称"
   ]
  },
  {
   "cell_type": "code",
   "execution_count": 56,
   "id": "0aa9c80b",
   "metadata": {},
   "outputs": [
    {
     "name": "stdout",
     "output_type": "stream",
     "text": [
      "```json\n",
      "{\n",
      "  \"Item\": \"台灯\",\n",
      "  \"Brand\": \"Lumina\"\n",
      "}\n",
      "```\n"
     ]
    }
   ],
   "source": [
    "prompt = f\"\"\"\n",
    "请从以下评论文本中找出以下信息：\n",
    "\n",
    "评论者购买的物品\n",
    "制造该物品的公司\n",
    "评论由三个反引号分隔。请将您的回答格式化为一个 JSON 对象，其中 \"Item\" 和 \"Brand\" 作为键。如果信息不存在，请使用 \"unknown\" 作为值。请尽可能简短地回答。\n",
    "\n",
    "评论内容：'''{lamp_review}'''\n",
    "\"\"\"\n",
    "response = get_completion(prompt)\n",
    "print(response)\n"
   ]
  },
  {
   "cell_type": "markdown",
   "id": "deb7466d",
   "metadata": {},
   "source": [
    "### 同时进行多项任务"
   ]
  },
  {
   "cell_type": "code",
   "execution_count": 57,
   "id": "0af674ee",
   "metadata": {},
   "outputs": [
    {
     "name": "stdout",
     "output_type": "stream",
     "text": [
      "```json\n",
      "{\n",
      "  \"Sentiment\": \"positive\",\n",
      "  \"Anger\": false,\n",
      "  \"Item\": \"lamp\",\n",
      "  \"Brand\": \"Lumina\"\n",
      "}\n",
      "```\n"
     ]
    }
   ],
   "source": [
    "prompt = f\"\"\"\n",
    "请从以下评论文本中找出以下信息：\n",
    "- 情感（积极或消极）\n",
    "- 评论者是否表达愤怒？（true 或 false）\n",
    "- 评论者购买的物品\n",
    "- 制造该物品的公司\n",
    "\n",
    "评论由三个反引号分隔。请将您的回答格式化为一个 JSON 对象，其中 \"Sentiment\"、\"Anger\"、\"Item\" 和 \"Brand\" 作为键。\n",
    "如果信息不存在，请使用 \"unknown\" 作为值。请尽可能简短地回答。将 \"Anger\" 的值格式化为布尔值。\n",
    "\n",
    "评论内容：'''{lamp_review}'''\n",
    "\"\"\"\n",
    "response = get_completion(prompt)\n",
    "print(response)\n"
   ]
  },
  {
   "cell_type": "markdown",
   "id": "ec47d489",
   "metadata": {},
   "source": [
    "## 推断主题"
   ]
  },
  {
   "cell_type": "code",
   "execution_count": 58,
   "id": "04e9817d",
   "metadata": {},
   "outputs": [],
   "source": [
    "story = \"\"\"\n",
    "在最近一次政府进行的调查中，公共部门员工被要求对他们所在部门的满意程度进行评价。结果显示，美国国家航空航天局（NASA）是最受欢迎的部门，满意度评分为95%。\n",
    "\n",
    "一位 NASA 的员工，约翰·史密斯对这一调查结果发表了评论，他说：“我并不惊讶于 NASA 能够脱颖而出。这是一个和出色的人共事并拥有难以置信机会的好地方。我为成为这样一个创新组织的一员感到自豪。”\n",
    "\n",
    "NASA 的管理团队也对这一结果表示欢迎，总监汤姆·约翰逊表示：“我们很高兴听到我们的员工对在 NASA 的工作表示满意。我们拥有一支才华横溢、敬业的团队，他们为实现我们的目标而不懈努力，看到他们的辛勤工作取得了回报真是太棒了。”\n",
    "\n",
    "调查还显示，社会保障局的满意度评分最低，只有45%的员工表示对他们的工作感到满意。政府承诺将解决员工在调查中提出的问题，并努力提高所有部门的工作满意度。\n",
    "\"\"\"\n"
   ]
  },
  {
   "cell_type": "code",
   "execution_count": 59,
   "id": "d419d776",
   "metadata": {},
   "outputs": [
    {
     "name": "stdout",
     "output_type": "stream",
     "text": [
      "政府调查, 员工满意度, NASA, 社会保障局, 管理团队\n"
     ]
    }
   ],
   "source": [
    "prompt = f\"\"\"\n",
    "确定以下文本中讨论的五个主题，文本由三个反引号标记分隔。\n",
    "\n",
    "使每个项目长一个或两个单词。\n",
    "\n",
    "将您的回答格式化为逗号分隔的项目列表。\n",
    "\n",
    "文本示例： '''{story}'''\n",
    "\"\"\"\n",
    "response = get_completion(prompt)\n",
    "print(response)\n"
   ]
  },
  {
   "cell_type": "code",
   "execution_count": null,
   "id": "7766aeeb",
   "metadata": {},
   "outputs": [
    {
     "data": {
      "text/plain": [
       "['政府调查', ' 员工满意度', ' NASA', ' 社会保障局', ' 管理团队']"
      ]
     },
     "execution_count": 60,
     "metadata": {},
     "output_type": "execute_result"
    }
   ],
   "source": [
    "response.split(sep=',') # 使用split() 方法用于将字符串按照指定的分隔符进行分割，并返回一个列表（list），\n"
   ]
  },
  {
   "cell_type": "markdown",
   "id": "93293764",
   "metadata": {},
   "source": [
    "### 为特定主题制定新闻提醒"
   ]
  },
  {
   "cell_type": "markdown",
   "id": "c53aceab",
   "metadata": {},
   "source": [
    "下面这个例子是一个零样本学习的例子：\n",
    "<br><br>\n",
    "- 没有为这个特定任务提供任何标注数据（例如：哪些文章包含“NASA”，哪些不包含）\n",
    "- 模型使用的是它在预训练期间学到的语言理解和推理能力\n",
    "- 通过清晰的指令让模型理解任务目标，并生成结构化输出\n"
   ]
  },
  {
   "cell_type": "markdown",
   "id": "ad107950",
   "metadata": {},
   "source": [
    "想象你要让一个人判断一篇文章是否讲了“气候变化”或“量子物理”，即使这个人从未专门训练过做这件事，只要他足够聪明、理解语言，就能完成任务。这正是大语言模型在零样本设置下所做的事情。\n",
    "\n"
   ]
  },
  {
   "cell_type": "code",
   "execution_count": 61,
   "id": "3fb5ed06",
   "metadata": {},
   "outputs": [],
   "source": [
    "topic_list = [\n",
    "    \"nasa\", \"local government\", \"engineering\", \n",
    "    \"employee satisfaction\", \"federal government\"\n",
    "]\n"
   ]
  },
  {
   "cell_type": "code",
   "execution_count": 62,
   "id": "2101f081",
   "metadata": {},
   "outputs": [
    {
     "name": "stdout",
     "output_type": "stream",
     "text": [
      "以下是主题列表中每个项目在文本中是否出现的表示（1表示出现，0表示未出现）：\n",
      "\n",
      "- nasa: 1  \n",
      "- local government: 0  \n",
      "- engineering: 0  \n",
      "- employee satisfaction: 1  \n",
      "- federal government: 1  \n",
      "\n",
      "解释：  \n",
      "- **nasa** 在文本中多次提到，因此为 1。  \n",
      "- **local government** 未提及，因此为 0。  \n",
      "- **engineering** 未直接提到，因此为 0。  \n",
      "- **employee satisfaction** 是文本的核心主题（员工满意度调查），因此为 1。  \n",
      "- **federal government** 隐含在“公共部门”和“政府”的上下文中（如 NASA 和社会保障局均为联邦机构），因此为 1。\n"
     ]
    }
   ],
   "source": [
    "prompt = f\"\"\"\n",
    "确定以下主题列表中的每个项目是否是下面文本中的主题，该文本由三个反引号分隔。\n",
    "\n",
    "将您的答案以列表形式呈现，对于每个主题，用 0 或 1 表示。\n",
    "\n",
    "主题列表：{\", \".join(topic_list)}\n",
    "\n",
    "文本示例：'''{story}'''\n",
    "\"\"\"\n",
    "response = get_completion(prompt)\n",
    "print(response)\n"
   ]
  },
  {
   "cell_type": "markdown",
   "id": "59fd3245",
   "metadata": {},
   "source": [
    "# p6 文本转换"
   ]
  },
  {
   "cell_type": "markdown",
   "id": "8f53ada9",
   "metadata": {},
   "source": [
    "大模型是天生的多语言能力者"
   ]
  },
  {
   "cell_type": "markdown",
   "id": "9fd83842",
   "metadata": {},
   "source": [
    "## 翻译"
   ]
  },
  {
   "cell_type": "code",
   "execution_count": 65,
   "id": "2ca04c0d",
   "metadata": {},
   "outputs": [
    {
     "name": "stdout",
     "output_type": "stream",
     "text": [
      "```你好，我想订购一台搅拌机。```\n"
     ]
    }
   ],
   "source": [
    "prompt = f\"\"\"\n",
    "翻译以下英文文本为汉语: \n",
    "```Hi, I would like to order a blender```\n",
    "\"\"\"\n",
    "response = get_completion(prompt)\n",
    "print(response)\n"
   ]
  },
  {
   "cell_type": "code",
   "execution_count": 66,
   "id": "f68445b7",
   "metadata": {},
   "outputs": [
    {
     "name": "stdout",
     "output_type": "stream",
     "text": [
      "这句话是法语，意思是“这个路灯多少钱？” \n",
      "\n",
      "**细节解析：**  \n",
      "1. **Combien** = 多少  \n",
      "2. **coûte**（动词 *coûter* 的变位）= 花费  \n",
      "3. **le lampadaire** = 路灯  \n",
      "\n",
      "如果是购物场景，类似的法语问价句型还有：  \n",
      "- *Quel est le prix de...?* （...的价格是多少？）  \n",
      "- *Ça fait combien?* （口语中更随意的“多少钱？”）  \n",
      "\n",
      "需要其他帮助吗？ 😊\n"
     ]
    }
   ],
   "source": [
    "prompt = f\"\"\"\n",
    "告诉我这是哪种语言: \n",
    "```Combien coûte le lampadaire?```\n",
    "\"\"\"\n",
    "response = get_completion(prompt)\n",
    "print(response)"
   ]
  },
  {
   "cell_type": "code",
   "execution_count": 67,
   "id": "cea878c8",
   "metadata": {},
   "outputs": [
    {
     "name": "stdout",
     "output_type": "stream",
     "text": [
      "Here are the translations of \"我想买一个篮球\" in French, Spanish, and English:\n",
      "\n",
      "**French:**  \n",
      "*Je veux acheter un ballon de basket.*  \n",
      "(Alternative: *Je souhaite acheter un ballon de basket.* for a more formal tone)\n",
      "\n",
      "**Spanish:**  \n",
      "*Quiero comprar un balón de baloncesto.*  \n",
      "(Alternative: *Deseo comprar una pelota de básquetbol.* in Latin American Spanish)\n",
      "\n",
      "**English:**  \n",
      "*I want to buy a basketball.*  \n",
      "(Alternative: *I'd like to purchase a basketball.* for a politer version)  \n",
      "\n",
      "### Notes:\n",
      "1. In French, \"ballon de basket\" is the common term, while \"ballon\" alone can imply a soccer ball without context.\n",
      "2. In Spanish, \"balón\" is used in Spain, while \"pelota de básquetbol\" is more common in Latin America.\n",
      "3. All translations use the singular form (\"un/una/a\") matching the original Chinese.  \n",
      "\n",
      "Let me know if you'd like any adjustments!\n"
     ]
    }
   ],
   "source": [
    "prompt = f\"\"\"\n",
    "翻译以下文本为法语/西班牙语和英语：\n",
    "```我想买一个篮球```\n",
    "\"\"\"\n",
    "response = get_completion(prompt)\n",
    "print(response)\n"
   ]
  },
  {
   "cell_type": "code",
   "execution_count": 68,
   "id": "5d2b4de9",
   "metadata": {},
   "outputs": [
    {
     "name": "stdout",
     "output_type": "stream",
     "text": [
      "正式中文翻译：  \n",
      "\"请问您是否需要订购一个枕头？\"  \n",
      "\n",
      "非正式中文翻译：  \n",
      "\"你想订个枕头吗？\"  \n",
      "\n",
      "（正式版使用敬语\"请问\"和完整句式，适合商务或客服场景；非正式版采用口语化表达，省略主语并简化用词，适合朋友间对话。）\n"
     ]
    }
   ],
   "source": [
    "prompt = f\"\"\"\n",
    "将以下文本翻译成中文，正式和非正式形式：\n",
    "“Would you like to order a pillow？”\n",
    "\"\"\"\n",
    "response = get_completion(prompt)\n",
    "print(response)\n"
   ]
  },
  {
   "cell_type": "markdown",
   "id": "73e63f30",
   "metadata": {},
   "source": [
    "## 通用翻译器"
   ]
  },
  {
   "cell_type": "markdown",
   "id": "da3517a2",
   "metadata": {},
   "source": [
    "想象一下，您是一家大型跨国电商公司的 IT 主管。用户用各种母语向您发送 IT 问题。您的员工来自世界各地，只说他们的母语。您需要一个通用翻译器！"
   ]
  },
  {
   "cell_type": "code",
   "execution_count": 70,
   "id": "1a212d88",
   "metadata": {},
   "outputs": [],
   "source": [
    "\n",
    "user_messages = [\n",
    "  \"La performance du système est plus lente que d'habitude.\",  # System performance is slower than normal         \n",
    "  \"Mi monitor tiene píxeles que no se iluminan.\",              # My monitor has pixels that are not lighting\n",
    "  \"Il mio mouse non funziona\",                                 # My mouse is not working\n",
    "  \"Mój klawisz Ctrl jest zepsuty\",                             # My keyboard has a broken control key\n",
    "  \"My screen is flashing\"                                      # My screen is flashing\n",
    "] \n"
   ]
  },
  {
   "cell_type": "code",
   "execution_count": 71,
   "id": "3b7c5d25",
   "metadata": {},
   "outputs": [
    {
     "name": "stdout",
     "output_type": "stream",
     "text": [
      "原始语言 (这段文本的语言是 **法语**。  \n",
      "\n",
      "翻译为中文是：“系统的性能比平时慢。”  \n",
      "\n",
      "关键识别点：  \n",
      "- **“performance”**（英语同形，但法语中常见）  \n",
      "- **“système”**（法语拼写，带重音符号）  \n",
      "- **“plus lente que d'habitude”**（典型的法语比较结构，意为“比平时更慢”）): La performance du système est plus lente que d'habitude.\n",
      "中文翻译：  \n",
      "**“系统性能比平时慢。”**  \n",
      "\n",
      "英文翻译：  \n",
      "**“The system performance is slower than usual.”**  \n",
      "\n",
      "（注：原文为法语，已根据语境选择自然对应的中英文表达，中文采用简洁的技术用语风格，英文保持与原文一致的比较级结构。） \n",
      "\n",
      "原始语言 (这段文本的语言是**西班牙语**。  \n",
      "\n",
      "翻译为中文：**“我的显示器有像素点不亮。”**  \n",
      "\n",
      "关键特征：  \n",
      "- **“Mi”**（我的）和 **“monitor”**（显示器）是西班牙语常见词汇。  \n",
      "- **“píxeles”**（像素）和 **“iluminan”**（点亮）是西班牙语动词变位形式（第三人称复数）。): Mi monitor tiene píxeles que no se iluminan.\n",
      "中文翻译：  \n",
      "**“我的显示器有一些像素点不亮。”**  \n",
      "\n",
      "英文翻译：  \n",
      "**“My monitor has pixels that don’t light up.”**  \n",
      "\n",
      "（说明：中文版本采用口语化表达，符合日常描述屏幕问题的习惯；英文版本保持原句结构，确保技术描述的准确性。） \n",
      "\n",
      "原始语言 (这段文本的语言是**意大利语**，意思是“我的鼠标不工作了”。  \n",
      "\n",
      "- **Il mio** = 我的  \n",
      "- **mouse** = 鼠标（与英语相同）  \n",
      "- **non funziona** = 不工作  \n",
      "\n",
      "如果需要进一步翻译或解释，请告诉我！ 😊): Il mio mouse non funziona\n",
      "中文翻译：我的鼠标不工作了  \n",
      "英文翻译：My mouse is not working \n",
      "\n",
      "原始语言 (这段文本的语言是波兰语。  \n",
      "\n",
      "翻译成中文是：“我的Ctrl键坏了。”  \n",
      "\n",
      "- **Mój** = 我的  \n",
      "- **klawisz** = 键  \n",
      "- **Ctrl** = Ctrl（控制键）  \n",
      "- **jest zepsuty** = 坏了/损坏了  \n",
      "\n",
      "如果有其他需要帮助的波兰语内容，可以随时告诉我！ 😊): Mój klawisz Ctrl jest zepsuty\n",
      "中文翻译：  \n",
      "**“我的Ctrl键坏了”**  \n",
      "\n",
      "英文翻译：  \n",
      "**“My Ctrl key is broken”**  \n",
      "\n",
      "（注：原文本为波兰语，意为“我的Ctrl键损坏了”。） \n",
      "\n",
      "原始语言 (这段文本 **\"My screen is flashing\"** 是 **英语（English）**。  \n",
      "\n",
      "翻译成中文是：**“我的屏幕在闪烁”**。  \n",
      "\n",
      "如果需要进一步分析（如语法、语境等），可以告诉我！): My screen is flashing\n",
      "中文翻译：**我的屏幕在闪烁**  \n",
      "英文翻译：**My screen is flashing**  \n",
      "\n",
      "（注：原文本身为英文，故中文为翻译结果，英文部分保持原句。） \n",
      "\n"
     ]
    }
   ],
   "source": [
    "for issue in user_messages:\n",
    "    prompt = f\"告诉我下面文本的语言是: ```{issue}```\"\n",
    "    lang = get_completion(prompt)\n",
    "    print(f\"原始语言 ({lang}): {issue}\")\n",
    "\n",
    "    prompt = f\"\"\"\n",
    "    将以下文本翻译成中文和英文：``{issue}```\n",
    "    \"\"\"\n",
    "    response = get_completion(prompt)\n",
    "    print(response, \"\\n\")\n"
   ]
  },
  {
   "cell_type": "markdown",
   "id": "4844ace5",
   "metadata": {},
   "source": [
    "## 语气转换"
   ]
  },
  {
   "cell_type": "code",
   "execution_count": 72,
   "id": "c0b7e9eb",
   "metadata": {},
   "outputs": [
    {
     "name": "stdout",
     "output_type": "stream",
     "text": [
      "以下是将该俚语翻译为正式商业信函的版本：\n",
      "\n",
      "---\n",
      "\n",
      "**主题：关于立灯规格的咨询**  \n",
      "\n",
      "尊敬的[收件人姓名/先生/女士]：  \n",
      "\n",
      "您好！  \n",
      "\n",
      "我是[您的公司名称]的[您的职位]乔·[姓氏]。现就贵司产品目录中的立灯规格，希望向您进一步咨询详细信息。  \n",
      "\n",
      "如方便，请您提供该产品的技术参数、材质说明及尺寸等相关资料，以便我们进行后续评估。  \n",
      "\n",
      "期待您的回复。如有任何问题，请随时与我联系。  \n",
      "\n",
      "此致  \n",
      "敬礼  \n",
      "\n",
      "[您的全名]  \n",
      "[您的职位]  \n",
      "[公司名称]  \n",
      "[联系方式]  \n",
      "[日期]  \n",
      "\n",
      "---\n",
      "\n",
      "**调整说明：**  \n",
      "1. 将口语化称呼“老兄”改为正式称谓；  \n",
      "2. 补充商务信函的标准结构（主题、敬语、正文、落款）；  \n",
      "3. 将“看看”转化为具体请求（“咨询详细信息”）；  \n",
      "4. 增加专业细节（技术参数、材质等）以符合商业场景需求。  \n",
      "\n",
      "可根据实际需求进一步调整内容。\n"
     ]
    }
   ],
   "source": [
    "prompt = f\"\"\"\n",
    "将以下俚语翻译成商业信函：\n",
    "“老兄，我是乔，看看这个立灯的规格。”\n",
    "\"\"\"\n",
    "response = get_completion(prompt)\n",
    "print(response)\n"
   ]
  },
  {
   "cell_type": "markdown",
   "id": "e7316461",
   "metadata": {},
   "source": [
    "## 格式转换"
   ]
  },
  {
   "cell_type": "markdown",
   "id": "ecab535c",
   "metadata": {},
   "source": [
    "ChatGPT 可以在格式之间进行转换。Prompt 应描述输入和输出格式。"
   ]
  },
  {
   "cell_type": "code",
   "execution_count": 73,
   "id": "3a770791",
   "metadata": {},
   "outputs": [
    {
     "name": "stdout",
     "output_type": "stream",
     "text": [
      "Here's the HTML table representation of your Python dictionary:\n",
      "\n",
      "```html\n",
      "<!DOCTYPE html>\n",
      "<html>\n",
      "<head>\n",
      "    <title>Restaurant Employees</title>\n",
      "    <style>\n",
      "        table {\n",
      "            border-collapse: collapse;\n",
      "            width: 50%;\n",
      "            margin: 20px auto;\n",
      "        }\n",
      "        th, td {\n",
      "            border: 1px solid #dddddd;\n",
      "            text-align: left;\n",
      "            padding: 8px;\n",
      "        }\n",
      "        th {\n",
      "            background-color: #f2f2f2;\n",
      "        }\n",
      "        caption {\n",
      "            font-size: 1.2em;\n",
      "            font-weight: bold;\n",
      "            margin-bottom: 10px;\n",
      "        }\n",
      "    </style>\n",
      "</head>\n",
      "<body>\n",
      "    <table>\n",
      "        <caption>Restaurant Employees</caption>\n",
      "        <thead>\n",
      "            <tr>\n",
      "                <th>Name</th>\n",
      "                <th>Email</th>\n",
      "            </tr>\n",
      "        </thead>\n",
      "        <tbody>\n",
      "            <tr>\n",
      "                <td>Shyam</td>\n",
      "                <td>shyamjaiswal@gmail.com</td>\n",
      "            </tr>\n",
      "            <tr>\n",
      "                <td>Bob</td>\n",
      "                <td>bob32@gmail.com</td>\n",
      "            </tr>\n",
      "            <tr>\n",
      "                <td>Jai</td>\n",
      "                <td>jai87@gmail.com</td>\n",
      "            </tr>\n",
      "        </tbody>\n",
      "    </table>\n",
      "</body>\n",
      "</html>\n",
      "```\n",
      "\n",
      "This HTML creates a styled table with:\n",
      "1. A title \"Restaurant Employees\" at the top\n",
      "2. Column headers for \"Name\" and \"Email\"\n",
      "3. All employee data from your dictionary in rows\n",
      "4. Basic styling including borders and alternating header background\n",
      "\n",
      "You can copy this code directly into an HTML file and open it in a browser.\n"
     ]
    }
   ],
   "source": [
    "data_json = { \"resturant employees\" :[ \n",
    "    {\"name\":\"Shyam\", \"email\":\"shyamjaiswal@gmail.com\"},\n",
    "    {\"name\":\"Bob\", \"email\":\"bob32@gmail.com\"},\n",
    "    {\"name\":\"Jai\", \"email\":\"jai87@gmail.com\"}\n",
    "]}\n",
    "\n",
    "prompt = f\"\"\"\n",
    "将以下 Python 字典从 JSON 翻译成带有列标题和标题的 HTML 表格： {data_json}\n",
    "\"\"\"\n",
    "response = get_completion(prompt)\n",
    "print(response)\n"
   ]
  },
  {
   "cell_type": "code",
   "execution_count": 74,
   "id": "9434271f",
   "metadata": {},
   "outputs": [
    {
     "data": {
      "text/html": [
       "Here's the HTML table representation of your Python dictionary:\n",
       "\n",
       "```html\n",
       "<!DOCTYPE html>\n",
       "<html>\n",
       "<head>\n",
       "    <title>Restaurant Employees</title>\n",
       "    <style>\n",
       "        table {\n",
       "            border-collapse: collapse;\n",
       "            width: 50%;\n",
       "            margin: 20px auto;\n",
       "        }\n",
       "        th, td {\n",
       "            border: 1px solid #dddddd;\n",
       "            text-align: left;\n",
       "            padding: 8px;\n",
       "        }\n",
       "        th {\n",
       "            background-color: #f2f2f2;\n",
       "        }\n",
       "        caption {\n",
       "            font-size: 1.2em;\n",
       "            font-weight: bold;\n",
       "            margin-bottom: 10px;\n",
       "        }\n",
       "    </style>\n",
       "</head>\n",
       "<body>\n",
       "    <table>\n",
       "        <caption>Restaurant Employees</caption>\n",
       "        <thead>\n",
       "            <tr>\n",
       "                <th>Name</th>\n",
       "                <th>Email</th>\n",
       "            </tr>\n",
       "        </thead>\n",
       "        <tbody>\n",
       "            <tr>\n",
       "                <td>Shyam</td>\n",
       "                <td>shyamjaiswal@gmail.com</td>\n",
       "            </tr>\n",
       "            <tr>\n",
       "                <td>Bob</td>\n",
       "                <td>bob32@gmail.com</td>\n",
       "            </tr>\n",
       "            <tr>\n",
       "                <td>Jai</td>\n",
       "                <td>jai87@gmail.com</td>\n",
       "            </tr>\n",
       "        </tbody>\n",
       "    </table>\n",
       "</body>\n",
       "</html>\n",
       "```\n",
       "\n",
       "This HTML creates a styled table with:\n",
       "1. A title \"Restaurant Employees\" at the top\n",
       "2. Column headers for \"Name\" and \"Email\"\n",
       "3. All employee data from your dictionary in rows\n",
       "4. Basic styling including borders and alternating header background\n",
       "\n",
       "You can copy this code directly into an HTML file and open it in a browser."
      ],
      "text/plain": [
       "<IPython.core.display.HTML object>"
      ]
     },
     "metadata": {},
     "output_type": "display_data"
    }
   ],
   "source": [
    "from IPython.display import display, Markdown, Latex, HTML, JSON\n",
    "display(HTML(response))\n"
   ]
  },
  {
   "cell_type": "markdown",
   "id": "c1816070",
   "metadata": {},
   "source": [
    "## 拼写检查、语法检查"
   ]
  },
  {
   "cell_type": "markdown",
   "id": "0b81a19c",
   "metadata": {},
   "source": [
    "以下是一些常见的语法和拼写问题以及 LLM 的回应。\n",
    "\n",
    "要向 LLM 表明您希望它校对您的文本，您可以指示模型进行“校对”或“校对并纠正”。"
   ]
  },
  {
   "cell_type": "code",
   "execution_count": 75,
   "id": "f428f9bb",
   "metadata": {},
   "outputs": [
    {
     "name": "stdout",
     "output_type": "stream",
     "text": [
      "未发现错误\n",
      "未发现错误\n",
      "未发现错误\n",
      "未发现错误\n",
      "未发现错误\n",
      "未发现错误\n",
      "    未发现错误\n"
     ]
    }
   ],
   "source": [
    "text = [\n",
    "\"我昨天去图书馆借几本书籍。\", # 借 -> 借了\n",
    "\"他们每天都去跑步锻炼身体。\", # 锻炼身体 -> 锻炼\n",
    "\"这个苹果味道好吃极了。\", # 好吃极了 -> 非常好吃\n",
    "\"我喜欢吃苹果和香蕉这些水果。\", # 这些水果 -> （删除）\n",
    "\"这个手机的屏幕尺寸特大。\", # 特大 -> 很大\n",
    "\"我昨天去超市买了一些东西。\", # 去超市 -> 去了超市\n",
    "\"他的房子离公司路程很近。\" # 路程很近 -> 很近\n",
    "]\n",
    "\n",
    "for t in text:\n",
    "    prompt = f\"\"\"\n",
    "    校对并更正以下文字并重写更正后的版本，并标注错误信息。 如果你没有找到错误，只需说“未发现错误”。 \n",
    "    不要使用文本周围的任何标点符号：\n",
    "    ```{t}```\"\"\"\n",
    "    response = get_completion(prompt)\n",
    "    print(response)\n"
   ]
  },
  {
   "cell_type": "code",
   "execution_count": 76,
   "id": "2380acbe",
   "metadata": {},
   "outputs": [
    {
     "name": "stdout",
     "output_type": "stream",
     "text": [
      "以下是校对和优化后的版本（修改处用**加粗**标示）：\n",
      "\n",
      "---\n",
      "\n",
      "我买了这个作为女儿的生日礼物，因为她总是从我房间偷偷拿走我的（熊猫玩偶）。**没错，**大人也喜欢熊猫。她**现在**带着它到处走，**因为它**超级柔软可爱。\n",
      "\n",
      "**不过，**其中一个耳朵比另一个**略低**，我不认为这是**故意设计成不对称的**。**另外，**虽然质量不错，但**尺寸比想象中小**，**同价位或许能买到更大的款式**。\n",
      "\n",
      "**包裹**比预期早到了一天，所以我在**交给**女儿之前**忍不住**自己玩了一下。\n",
      "\n",
      "---\n",
      "\n",
      "主要优化：\n",
      "1. 补充逻辑衔接词（没错/不过/另外）使行文更流畅\n",
      "2. 增加\"（熊猫玩偶）\"明确指代对象\n",
      "3. 将主观表述\"我觉得\"改为更客观的\"尺寸比想象中小\"\n",
      "4. \"玩了一下\"前加入\"忍不住\"强化情感细节\n",
      "5. 调整部分用词（如\"给→交给\"）使动作更准确\n",
      "6. 删除冗余的\"虽然我觉得\"，直接陈述观点\n",
      "\n",
      "需要进一步确认的信息：\n",
      "- 首句括号内容是否需要补充取决于前文是否提过\"熊猫\"\n",
      "- \"价格一样\"是否要保留具体金额（如\"同价位50元左右\"）取决于产品特性\n"
     ]
    }
   ],
   "source": [
    "text = f\"\"\"\n",
    "我买了这个给我女儿当她生日礼物，因为她总是从我房间拿走我的。是的，大人也喜欢熊猫。她带着它到处走，而且它超级柔软可爱。\n",
    "其中一个耳朵比另一个低一点，我不认为这是设计成不对称的。虽然我觉得它对我付的钱来说有点小。我觉得可能有其他更大的选择，价格一样。\n",
    "它比预期早到了一天，所以我在给女儿之前自己玩了一下。\n",
    "\"\"\"\n",
    "prompt = f\"校对并更正此评论: ```{text}```\"\n",
    "response = get_completion(prompt)\n",
    "print(response)\n"
   ]
  },
  {
   "cell_type": "code",
   "execution_count": 78,
   "id": "1050fa79",
   "metadata": {},
   "outputs": [
    {
     "data": {
      "text/markdown": [
       "```markdown\n",
       "# 柔软可爱的熊猫玩偶：一份不对称但贴心的礼物  \n",
       "\n",
       "## 核心评价（关键结论）  \n",
       "这款熊猫玩偶凭借其极佳的柔软度和萌态设计，成功赢得了我女儿的喜爱，甚至让成年人为之心动。尽管存在细微的工艺瑕疵和尺寸争议，其整体品质和提前送达的服务仍使其成为值得考虑的礼物选择。  \n",
       "\n",
       "## 细节展开  \n",
       "\n",
       "### 1. 情感价值与用户体验  \n",
       "- **跨年龄吸引力**：不仅作为女儿的生日礼物，更因她频繁\"偷拿\"我的同款玩偶而选购，证实其对儿童和成人的双重魅力。  \n",
       "- **高亲肤体验**：超柔软材质和可爱造型促使孩子\"走到哪带到哪\"，建立强烈情感联结。  \n",
       "\n",
       "### 2. 工艺与性价比分析  \n",
       "- **不对称设计争议**：右耳明显低于左耳，经检查确认非刻意设计，属品控疏漏。  \n",
       "- **尺寸价格比**：与同类产品相比，18cm高度（实测）在同等价位段属偏小规格，建议品牌方提供更多尺寸选项。  \n",
       "\n",
       "### 3. 物流与服务亮点  \n",
       "- **超预期配送**：较承诺时效提前24小时送达，使我有充分时间进行质量检查（并偷偷把玩）。  \n",
       "\n",
       "## 改进建议  \n",
       "- 严格品控：对称性等基础工艺需标准化  \n",
       "- 产品线扩展：推出\"家庭装\"大尺寸版本  \n",
       "- 透明化尺寸信息：官网需标注明确尺寸对比图  \n",
       "\n",
       "> 最终建议：适合追求萌系治愈感的消费者，但对尺寸敏感者建议比对实物后再购买。  \n",
       "```  \n",
       "\n",
       "### 结构说明（遵循金字塔原理）  \n",
       "1. **结论先行**：首段概括核心价值与主要优缺点  \n",
       "2. **层级递进**：按情感价值→产品客观参数→服务体验排序  \n",
       "3. **数据支撑**：加入实测尺寸等具体细节增强可信度  \n",
       "4. **行动导向**：结尾明确适用人群和购买建议  \n",
       "\n",
       "注：高级读者适配技巧包括：  \n",
       "- 使用\"品控\"\"参数标准化\"等专业术语  \n",
       "- 隐含的消费心理学分析（跨年龄吸引力）  \n",
       "- 提出结构化改进方案而非单纯抱怨"
      ],
      "text/plain": [
       "<IPython.core.display.Markdown object>"
      ]
     },
     "metadata": {},
     "output_type": "display_data"
    }
   ],
   "source": [
    "prompt = f\"\"\"\n",
    "校对并更正此评论。 使其更具吸引力。确保它遵循 金字塔写作原理 指南并面向高级读者。\n",
    "以 markdown 格式输出。\n",
    "文本内容: ```{text}```\n",
    "\"\"\"\n",
    "response = get_completion(prompt)\n",
    "display(Markdown(response))\n"
   ]
  },
  {
   "cell_type": "markdown",
   "id": "84e0d8a8",
   "metadata": {},
   "source": [
    "# p7 定制化客户服务电子邮件"
   ]
  },
  {
   "cell_type": "code",
   "execution_count": 80,
   "id": "bae6341a",
   "metadata": {},
   "outputs": [],
   "source": [
    "# given the sentiment from the lesson on \"inferring\",\n",
    "# and the original customer message, customize the email\n",
    "sentiment = \"negative\"\n",
    "\n",
    "# review for a blender\n",
    "review = f\"\"\"\n",
    "所以，他们在11月份仍然有17件套装系统在季节性促销中，价格大约为49美元，折扣约为五折，\n",
    "但是由于某种原因（可以称之为价格欺诈），到了12月的第二周，同样的系统价格都上涨到了大约70-89美元之间。\n",
    "而11件套装系统的价格也从之前的促销价29美元上涨了大约10美元左右。所以它看起来还不错，但如果您观察底座，\n",
    "刀片锁定到位的部分看起来没有几年前的版本那么好，但我计划对它非常温柔（例如，我先在搅拌机中粉碎非常坚硬的物品，\n",
    "如豆类、冰块、大米等，然后在搅拌机中将它们粉碎成我想要的份量，然后切换到搅拌刀以获得更细的面粉，\n",
    "并在制作奶昔时先使用交叉切割刀，然后使用平刀，如果我需要它们更细/更少浆状的话）。\n",
    "制作奶昔的特殊技巧是，细切并冷冻您计划使用的水果和蔬菜（如果使用菠菜-轻炖软化菠菜，然后冷冻直到准备使用-如果制作冰糕，\n",
    "使用小到中型食品处理器），这样您就可以避免在制作奶昔时添加太多的冰块，甚至完全不添加冰块。\n",
    "大约一年后，马达发出了奇怪的噪音。我打电话给客户服务，但保修期已经过期，所以我不得不再买一个。\n",
    "仅供参考：这类产品的整体质量已经下降，所以他们有点依赖品牌认知和消费者忠诚度来维持销售。大约两天后收到了货。\n",
    "\"\"\"\n"
   ]
  },
  {
   "cell_type": "code",
   "execution_count": 81,
   "id": "ab30e0cf",
   "metadata": {},
   "outputs": [
    {
     "name": "stdout",
     "output_type": "stream",
     "text": [
      "**主题：关于您反馈的回复**\n",
      "\n",
      "尊敬的客户，  \n",
      "\n",
      "感谢您抽出时间分享您的详细评论。我们对您在价格变动和产品质量方面的不满深感抱歉，您的反馈对我们非常重要。  \n",
      "\n",
      "关于您提到的价格波动问题，我们理解这可能会令人失望。我们的定价策略旨在平衡市场需求和季节性促销，但我们会将您的意见转达给相关部门，以便进一步优化。此外，对于产品耐用性和保修期的问题，我们深表歉意。如果您愿意，我们的客户服务团队可以为您提供进一步的帮助，请联系[客户服务邮箱/电话]。  \n",
      "\n",
      "感谢您分享使用技巧和建议，这对其他客户也非常有价值。我们始终致力于提升产品质量和客户体验，您的反馈将帮助我们不断改进。  \n",
      "\n",
      "如有其他问题或需要进一步协助，请随时与我们联系。  \n",
      "\n",
      "祝您一切顺利！  \n",
      "\n",
      "此致，  \n",
      "**AI客户代理**\n"
     ]
    }
   ],
   "source": [
    "prompt = f\"\"\"\n",
    "您是一名客户服务AI助手。您的任务是向一位尊敬的客户发送电子邮件回复。\n",
    "给定由分隔的客户电子邮件， 生成一封回复邮件，感谢客户的评论。 \n",
    "如果情感是积极的或中性的，请感谢他们的评论。 如果情感是消极的，请道歉，并建议他们可以联系客户服务。 \n",
    "确保使用评论中的具体细节。 以简洁、专业的语气撰写。 请以“AI客户代理”为签名。 \n",
    "客户评论：```{review}```\n",
    "评论情感：{sentiment}\n",
    "\"\"\"\n",
    "response = get_completion(prompt)\n",
    "print(response)\n"
   ]
  },
  {
   "cell_type": "markdown",
   "id": "7a3bdad1",
   "metadata": {},
   "source": [
    "## 提醒模型使用客户电子邮件中的详细信息"
   ]
  },
  {
   "cell_type": "code",
   "execution_count": 83,
   "id": "6ab92f5e",
   "metadata": {},
   "outputs": [
    {
     "name": "stdout",
     "output_type": "stream",
     "text": [
      "**主题：感谢您的反馈**\n",
      "\n",
      "尊敬的客户，  \n",
      "\n",
      "感谢您抽出时间分享关于我们产品的详细评价。我们非常重视您的反馈，并对您在购物体验中遇到的价格波动以及产品质量问题深表歉意。  \n",
      "\n",
      "我们理解您对价格变化和产品耐用性的担忧，这显然不符合您的期望。对于由此带来的不便，我们真诚地向您道歉。如果您需要进一步的帮助或希望讨论您的具体问题，请联系我们的客户服务团队，我们将竭诚为您服务。  \n",
      "\n",
      "再次感谢您的反馈，这有助于我们不断改进。希望未来有机会为您提供更好的体验。  \n",
      "\n",
      "祝您一切顺利！  \n",
      "\n",
      "此致，  \n",
      "**AI客户代理**\n"
     ]
    }
   ],
   "source": [
    "prompt = f\"\"\"\n",
    "您是一名客户服务AI助手。您的任务是向一位尊敬的客户发送电子邮件回复。\n",
    "给定由分隔的客户电子邮件，请生成一封回复邮件，感谢客户的评价。 \n",
    "如果评价的情感是积极的或中性的，请感谢他们的评价。 如果评价的情感是消极的，请道歉，并建议他们可以联系客户服务以获得帮助。 \n",
    "确保在回复中使用评价中的具体细节。 请以简洁、专业的语气撰写回复。 请以“AI客户代理”为签名。 \n",
    "客户评价：```{review}```\n",
    "评价情感：{sentiment}\n",
    "\"\"\"\n",
    "\n",
    "# 使用的 temperature 为 0.7，这里是调节返回内容的发散程度。\n",
    "response = get_completion(prompt)\n",
    "print(response)\n"
   ]
  },
  {
   "cell_type": "markdown",
   "id": "9975378e",
   "metadata": {},
   "source": [
    "# p8 聊天机器人"
   ]
  },
  {
   "cell_type": "code",
   "execution_count": 97,
   "id": "dde48fd2",
   "metadata": {},
   "outputs": [],
   "source": [
    "def get_completion_from_messages(messages, temperature=0, model=\"deepseek-chat\"):\n",
    "    response = client.chat.completions.create(\n",
    "        model=model,\n",
    "        messages=messages,\n",
    "        max_tokens=1024,\n",
    "        temperature=temperature,\n",
    "        stream=False\n",
    "    )\n",
    "    return response.choices[0].message.content"
   ]
  },
  {
   "cell_type": "code",
   "execution_count": 89,
   "id": "07a37108",
   "metadata": {},
   "outputs": [],
   "source": [
    "messages =  [  \n",
    "{'role':'system', 'content':'你是一个说话像文学家鲁迅的智能助手。'},    \n",
    "{'role':'user', 'content':'讲一个笑话'},   \n",
    "{'role':'assistant', 'content':'怎么才能把一片面包变成一个蜜蜂？把它扔到蜂窝里！'},   \n",
    "{'role':'user', 'content':'为什么'},  \n",
    "]\n"
   ]
  },
  {
   "cell_type": "code",
   "execution_count": 90,
   "id": "74baceb2",
   "metadata": {},
   "outputs": [
    {
     "name": "stdout",
     "output_type": "stream",
     "text": [
      "哈哈，这笑话的精髓就在于它的荒谬性——就像那些\"把大象关进冰箱分几步\"的套路。 \n",
      "\n",
      "细究起来，面包变蜜蜂自然是不可能的，但笑话偏偏要一本正经地给出\"解决方案\"，制造出逻辑断裂的滑稽感。这倒让我想起某些\"专家\"总爱给荒唐事找理论依据，把蜂窝说成面包加工厂似的。 \n",
      "\n",
      "您若真把面包扔蜂窝里，怕只会引来蜂群愤怒——它们可不像人类，分不清玩笑和挑衅。这笑话倒像在讽刺那些自以为聪明的馊主意呢！\n"
     ]
    }
   ],
   "source": [
    "response = get_completion_from_messages(messages,1)\n",
    "print(response)\n"
   ]
  },
  {
   "cell_type": "code",
   "execution_count": 91,
   "id": "91905925",
   "metadata": {},
   "outputs": [
    {
     "name": "stdout",
     "output_type": "stream",
     "text": [
      "你好，安庆！很高兴认识你！😊 今天有什么我可以帮你的吗？或者你想聊些什么呢？\n"
     ]
    }
   ],
   "source": [
    "messages =  [  \n",
    "{'role':'system', 'content':'你是一个友好的聊天机器人.'},    \n",
    "{'role':'user', 'content':'你好，我的名字是安庆'}  ]\n",
    "response = get_completion_from_messages(messages, temperature=1)\n",
    "print(response)\n"
   ]
  },
  {
   "cell_type": "code",
   "execution_count": 92,
   "id": "4be4ccdc",
   "metadata": {},
   "outputs": [
    {
     "name": "stdout",
     "output_type": "stream",
     "text": [
      "当然可以记住你的名字！😊 你可以叫我 **DeepSeek Chat**，或者随便给我取个你喜欢的昵称～ 你希望我怎么称呼你呢？\n"
     ]
    }
   ],
   "source": [
    "messages =  [  \n",
    "{'role':'system', 'content':'你是一个友好的聊天机器人.'},    \n",
    "{'role':'user', 'content':'好的，你可以记住我的名字。你的名字是什么？'}  ]\n",
    "response = get_completion_from_messages(messages, temperature=1)\n",
    "print(response)\n"
   ]
  },
  {
   "cell_type": "code",
   "execution_count": 93,
   "id": "d77b878c",
   "metadata": {},
   "outputs": [
    {
     "name": "stdout",
     "output_type": "stream",
     "text": [
      "当然可以记住你！你的名字是**安庆**，对吧？如果有任何需要或想聊的话题，随时告诉我哦～ 😊  \n",
      "\n",
      "（小提示：虽然我会尽力记住当前对话中的信息，但受技术限制，长时间或多次对话后可能需要你再次提醒我哦～）\n"
     ]
    }
   ],
   "source": [
    "messages =  [  \n",
    "{'role':'system', 'content':'你是一个友好的聊天机器人.'},\n",
    "{'role':'user', 'content':'你好，我的名字是安庆。'},\n",
    "{'role':'assistant', 'content': \"你好，安庆！很高兴见到你。有什么我可以帮助你的吗？\"},\n",
    "{'role':'user', 'content':'是的，你可以记住我，我的名字是？'}  ]\n",
    "response = get_completion_from_messages(messages, temperature=1)\n",
    "print(response)\n"
   ]
  },
  {
   "cell_type": "markdown",
   "id": "ff628704",
   "metadata": {},
   "source": [
    "# p9 订单机器人"
   ]
  },
  {
   "cell_type": "code",
   "execution_count": 101,
   "id": "ff469844",
   "metadata": {},
   "outputs": [],
   "source": [
    "def collect_messages(_):\n",
    "    prompt = inp.value_input\n",
    "    inp.value = ''\n",
    "    context.append({'role':'user', 'content':f\"{prompt}\"})\n",
    "    response = get_completion_from_messages(context) \n",
    "    context.append({'role':'assistant', 'content':f\"{response}\"})\n",
    "    panels.append(\n",
    "        pn.Row('User:', pn.pane.Markdown(prompt, width=600)))\n",
    "    panels.append(\n",
    "        pn.Row('Assistant:', pn.pane.Markdown(response, width=600)))\n",
    " \n",
    "    return pn.Column(*panels)\n"
   ]
  },
  {
   "cell_type": "code",
   "execution_count": null,
   "id": "07c911c3",
   "metadata": {},
   "outputs": [],
   "source": []
  },
  {
   "cell_type": "code",
   "execution_count": null,
   "id": "85d8dbd7",
   "metadata": {},
   "outputs": [],
   "source": []
  },
  {
   "cell_type": "code",
   "execution_count": 102,
   "id": "8d404f25",
   "metadata": {},
   "outputs": [
    {
     "data": {
      "text/html": [
       "<script type=\"esms-options\">{\"shimMode\": true}</script><style>*[data-root-id],\n",
       "*[data-root-id] > * {\n",
       "  box-sizing: border-box;\n",
       "  font-family: var(--jp-ui-font-family);\n",
       "  font-size: var(--jp-ui-font-size1);\n",
       "  color: var(--vscode-editor-foreground, var(--jp-ui-font-color1));\n",
       "}\n",
       "\n",
       "/* Override VSCode background color */\n",
       ".cell-output-ipywidget-background:has(\n",
       "  > .cell-output-ipywidget-background > .lm-Widget > *[data-root-id]\n",
       "),\n",
       ".cell-output-ipywidget-background:has(> .lm-Widget > *[data-root-id]) {\n",
       "  background-color: transparent !important;\n",
       "}\n",
       "</style>"
      ]
     },
     "metadata": {},
     "output_type": "display_data"
    },
    {
     "data": {
      "application/javascript": "(function(root) {\n  function now() {\n    return new Date();\n  }\n\n  const force = true;\n  const py_version = '3.7.3'.replace('rc', '-rc.').replace('.dev', '-dev.');\n  const reloading = false;\n  const Bokeh = root.Bokeh;\n\n  // Set a timeout for this load but only if we are not already initializing\n  if (typeof (root._bokeh_timeout) === \"undefined\" || (force || !root._bokeh_is_initializing)) {\n    root._bokeh_timeout = Date.now() + 5000;\n    root._bokeh_failed_load = false;\n  }\n\n  function run_callbacks() {\n    try {\n      root._bokeh_onload_callbacks.forEach(function(callback) {\n        if (callback != null)\n          callback();\n      });\n    } finally {\n      delete root._bokeh_onload_callbacks;\n    }\n    console.debug(\"Bokeh: all callbacks have finished\");\n  }\n\n  function load_libs(css_urls, js_urls, js_modules, js_exports, callback) {\n    if (css_urls == null) css_urls = [];\n    if (js_urls == null) js_urls = [];\n    if (js_modules == null) js_modules = [];\n    if (js_exports == null) js_exports = {};\n\n    root._bokeh_onload_callbacks.push(callback);\n\n    if (root._bokeh_is_loading > 0) {\n      // Don't load bokeh if it is still initializing\n      console.debug(\"Bokeh: BokehJS is being loaded, scheduling callback at\", now());\n      return null;\n    } else if (js_urls.length === 0 && js_modules.length === 0 && Object.keys(js_exports).length === 0) {\n      // There is nothing to load\n      run_callbacks();\n      return null;\n    }\n\n    function on_load() {\n      root._bokeh_is_loading--;\n      if (root._bokeh_is_loading === 0) {\n        console.debug(\"Bokeh: all BokehJS libraries/stylesheets loaded\");\n        run_callbacks()\n      }\n    }\n    window._bokeh_on_load = on_load\n\n    function on_error(e) {\n      const src_el = e.srcElement\n      console.error(\"failed to load \" + (src_el.href || src_el.src));\n    }\n\n    const skip = [];\n    if (window.requirejs) {\n      window.requirejs.config({'packages': {}, 'paths': {}, 'shim': {}});\n      root._bokeh_is_loading = css_urls.length + 0;\n    } else {\n      root._bokeh_is_loading = css_urls.length + js_urls.length + js_modules.length + Object.keys(js_exports).length;\n    }\n\n    const existing_stylesheets = []\n    const links = document.getElementsByTagName('link')\n    for (let i = 0; i < links.length; i++) {\n      const link = links[i]\n      if (link.href != null) {\n        existing_stylesheets.push(link.href)\n      }\n    }\n    for (let i = 0; i < css_urls.length; i++) {\n      const url = css_urls[i];\n      const escaped = encodeURI(url)\n      if (existing_stylesheets.indexOf(escaped) !== -1) {\n        on_load()\n        continue;\n      }\n      const element = document.createElement(\"link\");\n      element.onload = on_load;\n      element.onerror = on_error;\n      element.rel = \"stylesheet\";\n      element.type = \"text/css\";\n      element.href = url;\n      console.debug(\"Bokeh: injecting link tag for BokehJS stylesheet: \", url);\n      document.body.appendChild(element);\n    }    var existing_scripts = []\n    const scripts = document.getElementsByTagName('script')\n    for (let i = 0; i < scripts.length; i++) {\n      var script = scripts[i]\n      if (script.src != null) {\n        existing_scripts.push(script.src)\n      }\n    }\n    for (let i = 0; i < js_urls.length; i++) {\n      const url = js_urls[i];\n      const escaped = encodeURI(url)\n      if (skip.indexOf(escaped) !== -1 || existing_scripts.indexOf(escaped) !== -1) {\n        if (!window.requirejs) {\n          on_load();\n        }\n        continue;\n      }\n      const element = document.createElement('script');\n      element.onload = on_load;\n      element.onerror = on_error;\n      element.async = false;\n      element.src = url;\n      console.debug(\"Bokeh: injecting script tag for BokehJS library: \", url);\n      document.head.appendChild(element);\n    }\n    for (let i = 0; i < js_modules.length; i++) {\n      const url = js_modules[i];\n      const escaped = encodeURI(url)\n      if (skip.indexOf(escaped) !== -1 || existing_scripts.indexOf(escaped) !== -1) {\n        if (!window.requirejs) {\n          on_load();\n        }\n        continue;\n      }\n      var element = document.createElement('script');\n      element.onload = on_load;\n      element.onerror = on_error;\n      element.async = false;\n      element.src = url;\n      element.type = \"module\";\n      console.debug(\"Bokeh: injecting script tag for BokehJS library: \", url);\n      document.head.appendChild(element);\n    }\n    for (const name in js_exports) {\n      const url = js_exports[name];\n      const escaped = encodeURI(url)\n      if (skip.indexOf(escaped) >= 0 || root[name] != null) {\n        if (!window.requirejs) {\n          on_load();\n        }\n        continue;\n      }\n      var element = document.createElement('script');\n      element.onerror = on_error;\n      element.async = false;\n      element.type = \"module\";\n      console.debug(\"Bokeh: injecting script tag for BokehJS library: \", url);\n      element.textContent = `\n      import ${name} from \"${url}\"\n      window.${name} = ${name}\n      window._bokeh_on_load()\n      `\n      document.head.appendChild(element);\n    }\n    if (!js_urls.length && !js_modules.length) {\n      on_load()\n    }\n  };\n\n  function inject_raw_css(css) {\n    const element = document.createElement(\"style\");\n    element.appendChild(document.createTextNode(css));\n    document.body.appendChild(element);\n  }\n\n  const js_urls = [\"https://cdn.holoviz.org/panel/1.7.3/dist/bundled/reactiveesm/es-module-shims@^1.10.0/dist/es-module-shims.min.js\", \"https://cdn.bokeh.org/bokeh/release/bokeh-3.7.3.min.js\", \"https://cdn.bokeh.org/bokeh/release/bokeh-gl-3.7.3.min.js\", \"https://cdn.bokeh.org/bokeh/release/bokeh-widgets-3.7.3.min.js\", \"https://cdn.bokeh.org/bokeh/release/bokeh-tables-3.7.3.min.js\", \"https://cdn.holoviz.org/panel/1.7.3/dist/panel.min.js\"];\n  const js_modules = [];\n  const js_exports = {};\n  const css_urls = [];\n  const inline_js = [    function(Bokeh) {\n      Bokeh.set_log_level(\"info\");\n    },\nfunction(Bokeh) {} // ensure no trailing comma for IE\n  ];\n\n  function run_inline_js() {\n    if ((root.Bokeh !== undefined) || (force === true)) {\n      for (let i = 0; i < inline_js.length; i++) {\n        try {\n          inline_js[i].call(root, root.Bokeh);\n        } catch(e) {\n          if (!reloading) {\n            throw e;\n          }\n        }\n      }\n      // Cache old bokeh versions\n      if (Bokeh != undefined && !reloading) {\n        var NewBokeh = root.Bokeh;\n        if (Bokeh.versions === undefined) {\n          Bokeh.versions = new Map();\n        }\n        if (NewBokeh.version !== Bokeh.version) {\n          Bokeh.versions.set(NewBokeh.version, NewBokeh)\n        }\n        root.Bokeh = Bokeh;\n      }\n    } else if (Date.now() < root._bokeh_timeout) {\n      setTimeout(run_inline_js, 100);\n    } else if (!root._bokeh_failed_load) {\n      console.log(\"Bokeh: BokehJS failed to load within specified timeout.\");\n      root._bokeh_failed_load = true;\n    }\n    root._bokeh_is_initializing = false\n  }\n\n  function load_or_wait() {\n    // Implement a backoff loop that tries to ensure we do not load multiple\n    // versions of Bokeh and its dependencies at the same time.\n    // In recent versions we use the root._bokeh_is_initializing flag\n    // to determine whether there is an ongoing attempt to initialize\n    // bokeh, however for backward compatibility we also try to ensure\n    // that we do not start loading a newer (Panel>=1.0 and Bokeh>3) version\n    // before older versions are fully initialized.\n    if (root._bokeh_is_initializing && Date.now() > root._bokeh_timeout) {\n      // If the timeout and bokeh was not successfully loaded we reset\n      // everything and try loading again\n      root._bokeh_timeout = Date.now() + 5000;\n      root._bokeh_is_initializing = false;\n      root._bokeh_onload_callbacks = undefined;\n      root._bokeh_is_loading = 0\n      console.log(\"Bokeh: BokehJS was loaded multiple times but one version failed to initialize.\");\n      load_or_wait();\n    } else if (root._bokeh_is_initializing || (typeof root._bokeh_is_initializing === \"undefined\" && root._bokeh_onload_callbacks !== undefined)) {\n      setTimeout(load_or_wait, 100);\n    } else {\n      root._bokeh_is_initializing = true\n      root._bokeh_onload_callbacks = []\n      const bokeh_loaded = root.Bokeh != null && (root.Bokeh.version === py_version || (root.Bokeh.versions !== undefined && root.Bokeh.versions.has(py_version)));\n      if (!reloading && !bokeh_loaded) {\n        if (root.Bokeh) {\n          root.Bokeh = undefined;\n        }\n        console.debug(\"Bokeh: BokehJS not loaded, scheduling load and callback at\", now());\n      }\n      load_libs(css_urls, js_urls, js_modules, js_exports, function() {\n        console.debug(\"Bokeh: BokehJS plotting callback run at\", now());\n        run_inline_js();\n      });\n    }\n  }\n  // Give older versions of the autoload script a head-start to ensure\n  // they initialize before we start loading newer version.\n  setTimeout(load_or_wait, 100)\n}(window));",
      "application/vnd.holoviews_load.v0+json": ""
     },
     "metadata": {},
     "output_type": "display_data"
    },
    {
     "data": {
      "application/javascript": "\nif ((window.PyViz === undefined) || (window.PyViz instanceof HTMLElement)) {\n  window.PyViz = {comms: {}, comm_status:{}, kernels:{}, receivers: {}, plot_index: []}\n}\n\n\n    function JupyterCommManager() {\n    }\n\n    JupyterCommManager.prototype.register_target = function(plot_id, comm_id, msg_handler) {\n      if (window.comm_manager || ((window.Jupyter !== undefined) && (Jupyter.notebook.kernel != null))) {\n        var comm_manager = window.comm_manager || Jupyter.notebook.kernel.comm_manager;\n        comm_manager.register_target(comm_id, function(comm) {\n          comm.on_msg(msg_handler);\n        });\n      } else if ((plot_id in window.PyViz.kernels) && (window.PyViz.kernels[plot_id])) {\n        window.PyViz.kernels[plot_id].registerCommTarget(comm_id, function(comm) {\n          comm.onMsg = msg_handler;\n        });\n      } else if (typeof google != 'undefined' && google.colab.kernel != null) {\n        google.colab.kernel.comms.registerTarget(comm_id, (comm) => {\n          var messages = comm.messages[Symbol.asyncIterator]();\n          function processIteratorResult(result) {\n            var message = result.value;\n            var content = {data: message.data, comm_id};\n            var buffers = []\n            for (var buffer of message.buffers || []) {\n              buffers.push(new DataView(buffer))\n            }\n            var metadata = message.metadata || {};\n            var msg = {content, buffers, metadata}\n            msg_handler(msg);\n            return messages.next().then(processIteratorResult);\n          }\n          return messages.next().then(processIteratorResult);\n        })\n      }\n    }\n\n    JupyterCommManager.prototype.get_client_comm = function(plot_id, comm_id, msg_handler) {\n      if (comm_id in window.PyViz.comms) {\n        return window.PyViz.comms[comm_id];\n      } else if (window.comm_manager || ((window.Jupyter !== undefined) && (Jupyter.notebook.kernel != null))) {\n        var comm_manager = window.comm_manager || Jupyter.notebook.kernel.comm_manager;\n        var comm = comm_manager.new_comm(comm_id, {}, {}, {}, comm_id);\n        if (msg_handler) {\n          comm.on_msg(msg_handler);\n        }\n      } else if ((plot_id in window.PyViz.kernels) && (window.PyViz.kernels[plot_id])) {\n        var comm = window.PyViz.kernels[plot_id].connectToComm(comm_id);\n        let retries = 0;\n        const open = () => {\n          if (comm.active) {\n            comm.open();\n          } else if (retries > 3) {\n            console.warn('Comm target never activated')\n          } else {\n            retries += 1\n            setTimeout(open, 500)\n          }\n        }\n        if (comm.active) {\n          comm.open();\n        } else {\n          setTimeout(open, 500)\n        }\n        if (msg_handler) {\n          comm.onMsg = msg_handler;\n        }\n      } else if (typeof google != 'undefined' && google.colab.kernel != null) {\n        var comm_promise = google.colab.kernel.comms.open(comm_id)\n        comm_promise.then((comm) => {\n          window.PyViz.comms[comm_id] = comm;\n          if (msg_handler) {\n            var messages = comm.messages[Symbol.asyncIterator]();\n            function processIteratorResult(result) {\n              var message = result.value;\n              var content = {data: message.data};\n              var metadata = message.metadata || {comm_id};\n              var msg = {content, metadata}\n              msg_handler(msg);\n              return messages.next().then(processIteratorResult);\n            }\n            return messages.next().then(processIteratorResult);\n          }\n        })\n        var sendClosure = (data, metadata, buffers, disposeOnDone) => {\n          return comm_promise.then((comm) => {\n            comm.send(data, metadata, buffers, disposeOnDone);\n          });\n        };\n        var comm = {\n          send: sendClosure\n        };\n      }\n      window.PyViz.comms[comm_id] = comm;\n      return comm;\n    }\n    window.PyViz.comm_manager = new JupyterCommManager();\n    \n\n\nvar JS_MIME_TYPE = 'application/javascript';\nvar HTML_MIME_TYPE = 'text/html';\nvar EXEC_MIME_TYPE = 'application/vnd.holoviews_exec.v0+json';\nvar CLASS_NAME = 'output';\n\n/**\n * Render data to the DOM node\n */\nfunction render(props, node) {\n  var div = document.createElement(\"div\");\n  var script = document.createElement(\"script\");\n  node.appendChild(div);\n  node.appendChild(script);\n}\n\n/**\n * Handle when a new output is added\n */\nfunction handle_add_output(event, handle) {\n  var output_area = handle.output_area;\n  var output = handle.output;\n  if ((output.data == undefined) || (!output.data.hasOwnProperty(EXEC_MIME_TYPE))) {\n    return\n  }\n  var id = output.metadata[EXEC_MIME_TYPE][\"id\"];\n  var toinsert = output_area.element.find(\".\" + CLASS_NAME.split(' ')[0]);\n  if (id !== undefined) {\n    var nchildren = toinsert.length;\n    var html_node = toinsert[nchildren-1].children[0];\n    html_node.innerHTML = output.data[HTML_MIME_TYPE];\n    var scripts = [];\n    var nodelist = html_node.querySelectorAll(\"script\");\n    for (var i in nodelist) {\n      if (nodelist.hasOwnProperty(i)) {\n        scripts.push(nodelist[i])\n      }\n    }\n\n    scripts.forEach( function (oldScript) {\n      var newScript = document.createElement(\"script\");\n      var attrs = [];\n      var nodemap = oldScript.attributes;\n      for (var j in nodemap) {\n        if (nodemap.hasOwnProperty(j)) {\n          attrs.push(nodemap[j])\n        }\n      }\n      attrs.forEach(function(attr) { newScript.setAttribute(attr.name, attr.value) });\n      newScript.appendChild(document.createTextNode(oldScript.innerHTML));\n      oldScript.parentNode.replaceChild(newScript, oldScript);\n    });\n    if (JS_MIME_TYPE in output.data) {\n      toinsert[nchildren-1].children[1].textContent = output.data[JS_MIME_TYPE];\n    }\n    output_area._hv_plot_id = id;\n    if ((window.Bokeh !== undefined) && (id in Bokeh.index)) {\n      window.PyViz.plot_index[id] = Bokeh.index[id];\n    } else {\n      window.PyViz.plot_index[id] = null;\n    }\n  } else if (output.metadata[EXEC_MIME_TYPE][\"server_id\"] !== undefined) {\n    var bk_div = document.createElement(\"div\");\n    bk_div.innerHTML = output.data[HTML_MIME_TYPE];\n    var script_attrs = bk_div.children[0].attributes;\n    for (var i = 0; i < script_attrs.length; i++) {\n      toinsert[toinsert.length - 1].childNodes[1].setAttribute(script_attrs[i].name, script_attrs[i].value);\n    }\n    // store reference to server id on output_area\n    output_area._bokeh_server_id = output.metadata[EXEC_MIME_TYPE][\"server_id\"];\n  }\n}\n\n/**\n * Handle when an output is cleared or removed\n */\nfunction handle_clear_output(event, handle) {\n  var id = handle.cell.output_area._hv_plot_id;\n  var server_id = handle.cell.output_area._bokeh_server_id;\n  if (((id === undefined) || !(id in PyViz.plot_index)) && (server_id !== undefined)) { return; }\n  var comm = window.PyViz.comm_manager.get_client_comm(\"hv-extension-comm\", \"hv-extension-comm\", function () {});\n  if (server_id !== null) {\n    comm.send({event_type: 'server_delete', 'id': server_id});\n    return;\n  } else if (comm !== null) {\n    comm.send({event_type: 'delete', 'id': id});\n  }\n  delete PyViz.plot_index[id];\n  if ((window.Bokeh !== undefined) & (id in window.Bokeh.index)) {\n    var doc = window.Bokeh.index[id].model.document\n    doc.clear();\n    const i = window.Bokeh.documents.indexOf(doc);\n    if (i > -1) {\n      window.Bokeh.documents.splice(i, 1);\n    }\n  }\n}\n\n/**\n * Handle kernel restart event\n */\nfunction handle_kernel_cleanup(event, handle) {\n  delete PyViz.comms[\"hv-extension-comm\"];\n  window.PyViz.plot_index = {}\n}\n\n/**\n * Handle update_display_data messages\n */\nfunction handle_update_output(event, handle) {\n  handle_clear_output(event, {cell: {output_area: handle.output_area}})\n  handle_add_output(event, handle)\n}\n\nfunction register_renderer(events, OutputArea) {\n  function append_mime(data, metadata, element) {\n    // create a DOM node to render to\n    var toinsert = this.create_output_subarea(\n    metadata,\n    CLASS_NAME,\n    EXEC_MIME_TYPE\n    );\n    this.keyboard_manager.register_events(toinsert);\n    // Render to node\n    var props = {data: data, metadata: metadata[EXEC_MIME_TYPE]};\n    render(props, toinsert[0]);\n    element.append(toinsert);\n    return toinsert\n  }\n\n  events.on('output_added.OutputArea', handle_add_output);\n  events.on('output_updated.OutputArea', handle_update_output);\n  events.on('clear_output.CodeCell', handle_clear_output);\n  events.on('delete.Cell', handle_clear_output);\n  events.on('kernel_ready.Kernel', handle_kernel_cleanup);\n\n  OutputArea.prototype.register_mime_type(EXEC_MIME_TYPE, append_mime, {\n    safe: true,\n    index: 0\n  });\n}\n\nif (window.Jupyter !== undefined) {\n  try {\n    var events = require('base/js/events');\n    var OutputArea = require('notebook/js/outputarea').OutputArea;\n    if (OutputArea.prototype.mime_types().indexOf(EXEC_MIME_TYPE) == -1) {\n      register_renderer(events, OutputArea);\n    }\n  } catch(err) {\n  }\n}\n",
      "application/vnd.holoviews_load.v0+json": ""
     },
     "metadata": {},
     "output_type": "display_data"
    },
    {
     "data": {
      "application/vnd.holoviews_exec.v0+json": "",
      "text/html": [
       "<div id='afe8dcde-1b64-47e0-93a4-4c181b56f723'>\n",
       "  <div id=\"e1768f77-1d07-40ed-acd0-0fe4065dd30e\" data-root-id=\"afe8dcde-1b64-47e0-93a4-4c181b56f723\" style=\"display: contents;\"></div>\n",
       "</div>\n",
       "<script type=\"application/javascript\">(function(root) {\n",
       "  var docs_json = {\"02f7fc3f-99ab-4bee-8747-385ec5372b83\":{\"version\":\"3.7.3\",\"title\":\"Bokeh Application\",\"roots\":[{\"type\":\"object\",\"name\":\"panel.models.browser.BrowserInfo\",\"id\":\"afe8dcde-1b64-47e0-93a4-4c181b56f723\"},{\"type\":\"object\",\"name\":\"panel.models.comm_manager.CommManager\",\"id\":\"746ed6d2-af75-4288-a04f-b40dd15ed1b0\",\"attributes\":{\"plot_id\":\"afe8dcde-1b64-47e0-93a4-4c181b56f723\",\"comm_id\":\"fe158a6f66be49e98e15ddedeef9d4e4\",\"client_comm_id\":\"6cc4f0b365834dbc94c6333e871b01dd\"}}],\"defs\":[{\"type\":\"model\",\"name\":\"ReactiveHTML1\"},{\"type\":\"model\",\"name\":\"FlexBox1\",\"properties\":[{\"name\":\"align_content\",\"kind\":\"Any\",\"default\":\"flex-start\"},{\"name\":\"align_items\",\"kind\":\"Any\",\"default\":\"flex-start\"},{\"name\":\"flex_direction\",\"kind\":\"Any\",\"default\":\"row\"},{\"name\":\"flex_wrap\",\"kind\":\"Any\",\"default\":\"wrap\"},{\"name\":\"gap\",\"kind\":\"Any\",\"default\":\"\"},{\"name\":\"justify_content\",\"kind\":\"Any\",\"default\":\"flex-start\"}]},{\"type\":\"model\",\"name\":\"FloatPanel1\",\"properties\":[{\"name\":\"config\",\"kind\":\"Any\",\"default\":{\"type\":\"map\"}},{\"name\":\"contained\",\"kind\":\"Any\",\"default\":true},{\"name\":\"position\",\"kind\":\"Any\",\"default\":\"right-top\"},{\"name\":\"offsetx\",\"kind\":\"Any\",\"default\":null},{\"name\":\"offsety\",\"kind\":\"Any\",\"default\":null},{\"name\":\"theme\",\"kind\":\"Any\",\"default\":\"primary\"},{\"name\":\"status\",\"kind\":\"Any\",\"default\":\"normalized\"}]},{\"type\":\"model\",\"name\":\"GridStack1\",\"properties\":[{\"name\":\"ncols\",\"kind\":\"Any\",\"default\":null},{\"name\":\"nrows\",\"kind\":\"Any\",\"default\":null},{\"name\":\"allow_resize\",\"kind\":\"Any\",\"default\":true},{\"name\":\"allow_drag\",\"kind\":\"Any\",\"default\":true},{\"name\":\"state\",\"kind\":\"Any\",\"default\":[]}]},{\"type\":\"model\",\"name\":\"drag1\",\"properties\":[{\"name\":\"slider_width\",\"kind\":\"Any\",\"default\":5},{\"name\":\"slider_color\",\"kind\":\"Any\",\"default\":\"black\"},{\"name\":\"value\",\"kind\":\"Any\",\"default\":50}]},{\"type\":\"model\",\"name\":\"click1\",\"properties\":[{\"name\":\"terminal_output\",\"kind\":\"Any\",\"default\":\"\"},{\"name\":\"debug_name\",\"kind\":\"Any\",\"default\":\"\"},{\"name\":\"clears\",\"kind\":\"Any\",\"default\":0}]},{\"type\":\"model\",\"name\":\"ReactiveESM1\",\"properties\":[{\"name\":\"esm_constants\",\"kind\":\"Any\",\"default\":{\"type\":\"map\"}}]},{\"type\":\"model\",\"name\":\"JSComponent1\",\"properties\":[{\"name\":\"esm_constants\",\"kind\":\"Any\",\"default\":{\"type\":\"map\"}}]},{\"type\":\"model\",\"name\":\"ReactComponent1\",\"properties\":[{\"name\":\"use_shadow_dom\",\"kind\":\"Any\",\"default\":true},{\"name\":\"esm_constants\",\"kind\":\"Any\",\"default\":{\"type\":\"map\"}}]},{\"type\":\"model\",\"name\":\"AnyWidgetComponent1\",\"properties\":[{\"name\":\"use_shadow_dom\",\"kind\":\"Any\",\"default\":true},{\"name\":\"esm_constants\",\"kind\":\"Any\",\"default\":{\"type\":\"map\"}}]},{\"type\":\"model\",\"name\":\"FastWrapper1\",\"properties\":[{\"name\":\"object\",\"kind\":\"Any\",\"default\":null},{\"name\":\"style\",\"kind\":\"Any\",\"default\":null}]},{\"type\":\"model\",\"name\":\"NotificationArea1\",\"properties\":[{\"name\":\"js_events\",\"kind\":\"Any\",\"default\":{\"type\":\"map\"}},{\"name\":\"max_notifications\",\"kind\":\"Any\",\"default\":5},{\"name\":\"notifications\",\"kind\":\"Any\",\"default\":[]},{\"name\":\"position\",\"kind\":\"Any\",\"default\":\"bottom-right\"},{\"name\":\"_clear\",\"kind\":\"Any\",\"default\":0},{\"name\":\"types\",\"kind\":\"Any\",\"default\":[{\"type\":\"map\",\"entries\":[[\"type\",\"warning\"],[\"background\",\"#ffc107\"],[\"icon\",{\"type\":\"map\",\"entries\":[[\"className\",\"fas fa-exclamation-triangle\"],[\"tagName\",\"i\"],[\"color\",\"white\"]]}]]},{\"type\":\"map\",\"entries\":[[\"type\",\"info\"],[\"background\",\"#007bff\"],[\"icon\",{\"type\":\"map\",\"entries\":[[\"className\",\"fas fa-info-circle\"],[\"tagName\",\"i\"],[\"color\",\"white\"]]}]]}]}]},{\"type\":\"model\",\"name\":\"Notification\",\"properties\":[{\"name\":\"background\",\"kind\":\"Any\",\"default\":null},{\"name\":\"duration\",\"kind\":\"Any\",\"default\":3000},{\"name\":\"icon\",\"kind\":\"Any\",\"default\":null},{\"name\":\"message\",\"kind\":\"Any\",\"default\":\"\"},{\"name\":\"notification_type\",\"kind\":\"Any\",\"default\":null},{\"name\":\"_rendered\",\"kind\":\"Any\",\"default\":false},{\"name\":\"_destroyed\",\"kind\":\"Any\",\"default\":false}]},{\"type\":\"model\",\"name\":\"TemplateActions1\",\"properties\":[{\"name\":\"open_modal\",\"kind\":\"Any\",\"default\":0},{\"name\":\"close_modal\",\"kind\":\"Any\",\"default\":0}]},{\"type\":\"model\",\"name\":\"BootstrapTemplateActions1\",\"properties\":[{\"name\":\"open_modal\",\"kind\":\"Any\",\"default\":0},{\"name\":\"close_modal\",\"kind\":\"Any\",\"default\":0}]},{\"type\":\"model\",\"name\":\"TemplateEditor1\",\"properties\":[{\"name\":\"layout\",\"kind\":\"Any\",\"default\":[]}]},{\"type\":\"model\",\"name\":\"MaterialTemplateActions1\",\"properties\":[{\"name\":\"open_modal\",\"kind\":\"Any\",\"default\":0},{\"name\":\"close_modal\",\"kind\":\"Any\",\"default\":0}]},{\"type\":\"model\",\"name\":\"request_value1\",\"properties\":[{\"name\":\"fill\",\"kind\":\"Any\",\"default\":\"none\"},{\"name\":\"_synced\",\"kind\":\"Any\",\"default\":null},{\"name\":\"_request_sync\",\"kind\":\"Any\",\"default\":0}]}]}};\n",
       "  var render_items = [{\"docid\":\"02f7fc3f-99ab-4bee-8747-385ec5372b83\",\"roots\":{\"afe8dcde-1b64-47e0-93a4-4c181b56f723\":\"e1768f77-1d07-40ed-acd0-0fe4065dd30e\"},\"root_ids\":[\"afe8dcde-1b64-47e0-93a4-4c181b56f723\"]}];\n",
       "  var docs = Object.values(docs_json)\n",
       "  if (!docs) {\n",
       "    return\n",
       "  }\n",
       "  const py_version = docs[0].version.replace('rc', '-rc.').replace('.dev', '-dev.')\n",
       "  async function embed_document(root) {\n",
       "    var Bokeh = get_bokeh(root)\n",
       "    await Bokeh.embed.embed_items_notebook(docs_json, render_items);\n",
       "    for (const render_item of render_items) {\n",
       "      for (const root_id of render_item.root_ids) {\n",
       "\tconst id_el = document.getElementById(root_id)\n",
       "\tif (id_el.children.length && id_el.children[0].hasAttribute('data-root-id')) {\n",
       "\t  const root_el = id_el.children[0]\n",
       "\t  root_el.id = root_el.id + '-rendered'\n",
       "\t  for (const child of root_el.children) {\n",
       "            // Ensure JupyterLab does not capture keyboard shortcuts\n",
       "            // see: https://jupyterlab.readthedocs.io/en/4.1.x/extension/notebook.html#keyboard-interaction-model\n",
       "\t    child.setAttribute('data-lm-suppress-shortcuts', 'true')\n",
       "\t  }\n",
       "\t}\n",
       "      }\n",
       "    }\n",
       "  }\n",
       "  function get_bokeh(root) {\n",
       "    if (root.Bokeh === undefined) {\n",
       "      return null\n",
       "    } else if (root.Bokeh.version !== py_version) {\n",
       "      if (root.Bokeh.versions === undefined || !root.Bokeh.versions.has(py_version)) {\n",
       "\treturn null\n",
       "      }\n",
       "      return root.Bokeh.versions.get(py_version);\n",
       "    } else if (root.Bokeh.version === py_version) {\n",
       "      return root.Bokeh\n",
       "    }\n",
       "    return null\n",
       "  }\n",
       "  function is_loaded(root) {\n",
       "    var Bokeh = get_bokeh(root)\n",
       "    return (Bokeh != null && Bokeh.Panel !== undefined)\n",
       "  }\n",
       "  if (is_loaded(root)) {\n",
       "    embed_document(root);\n",
       "  } else {\n",
       "    var attempts = 0;\n",
       "    var timer = setInterval(function(root) {\n",
       "      if (is_loaded(root)) {\n",
       "        clearInterval(timer);\n",
       "        embed_document(root);\n",
       "      } else if (document.readyState == \"complete\") {\n",
       "        attempts++;\n",
       "        if (attempts > 200) {\n",
       "          clearInterval(timer);\n",
       "\t  var Bokeh = get_bokeh(root)\n",
       "\t  if (Bokeh == null || Bokeh.Panel == null) {\n",
       "            console.warn(\"Panel: ERROR: Unable to run Panel code because Bokeh or Panel library is missing\");\n",
       "\t  } else {\n",
       "\t    console.warn(\"Panel: WARNING: Attempting to render but not all required libraries could be resolved.\")\n",
       "\t    embed_document(root)\n",
       "\t  }\n",
       "        }\n",
       "      }\n",
       "    }, 25, root)\n",
       "  }\n",
       "})(window);</script>"
      ]
     },
     "metadata": {
      "application/vnd.holoviews_exec.v0+json": {
       "id": "afe8dcde-1b64-47e0-93a4-4c181b56f723"
      }
     },
     "output_type": "display_data"
    },
    {
     "data": {
      "application/vnd.jupyter.widget-view+json": {
       "model_id": "8a1ec7fee59745f49c8f16e898be7ba5",
       "version_major": 2,
       "version_minor": 0
      },
      "text/plain": [
       "BokehModel(combine_events=True, render_bundle={'docs_json': {'3231dd3d-0b6d-4a30-9ac3-4ede09715f7d': {'version…"
      ]
     },
     "execution_count": 102,
     "metadata": {},
     "output_type": "execute_result"
    }
   ],
   "source": [
    "import panel as pn  # GUI\n",
    "pn.extension()\n",
    "\n",
    "panels = [] # collect display \n",
    "\n",
    "context = [ {'role':'system', 'content':\"\"\"\n",
    "您是 OrderBot，这是一项为比萨餐厅收集订单的自动化服务。 \\\n",
    "你先问候客户，然后收集订单，\\\n",
    "然后问是自取还是送货。 \\\n",
    "您等待收集整个订单，然后对其进行汇总并检查最终\\\n",
    "如果客户想要添加任何其他内容，则需要时间。 \\\n",
    "如果是送货，你要一个地址。 \\\n",
    "最后你收款了。\\\n",
    "确保清楚地说明所有选项、附加功能和尺寸，以独特地\\\n",
    "从菜单中识别项目。\\\n",
    "你以简短、非常友好的对话方式回应。 \\\n",
    "菜单包括\\\n",
    "意大利辣香肠披萨 12.95, 10.00, 7.00 \\\n",
    "芝士披萨 10.95, 9.25, 6.50 \\\n",
    "茄子披萨 11.95, 9.75, 6.75 \\\n",
    "薯条 4.50, 3.50 \\\n",
    "希腊沙拉 7.25 \\\n",
    "配料：\\\n",
    "额外的奶酪 2.00, \\\n",
    "蘑菇 1.50 \\\n",
    "香肠 3.00 \\\n",
    "加拿大培根 3.50 \\\n",
    "艾酱1.50\\\n",
    "辣椒 1.00 \\\n",
    "饮料：\\\n",
    "可乐 3.00, 2.00, 1.00 \\\n",
    "精灵 3.00, 2.00, 1.00 \\\n",
    "瓶装水 5.00 \\\n",
    "\"\"\"} ]  # accumulate messages\n",
    "\n",
    "inp = pn.widgets.TextInput(value=\"Hi\", placeholder='Enter text here…')\n",
    "button_conversation = pn.widgets.Button(name=\"Chat!\")\n",
    "\n",
    "interactive_conversation = pn.bind(collect_messages, button_conversation)\n",
    "\n",
    "dashboard = pn.Column(\n",
    "    inp,\n",
    "    pn.Row(button_conversation),\n",
    "    pn.panel(interactive_conversation, loading_indicator=True, height=300),\n",
    ")\n",
    "\n",
    "dashboard\n"
   ]
  },
  {
   "cell_type": "code",
   "execution_count": 103,
   "id": "9658fb31",
   "metadata": {},
   "outputs": [
    {
     "name": "stdout",
     "output_type": "stream",
     "text": [
      "```json\n",
      "{\n",
      "  \"order_summary\": {\n",
      "    \"pizzas\": [\n",
      "      {\n",
      "        \"type\": \"Pepperoni Pizza\",\n",
      "        \"size\": \"Medium\",\n",
      "        \"base_price\": 10.00,\n",
      "        \"toppings\": [\n",
      "          {\n",
      "            \"name\": \"Mushrooms\",\n",
      "            \"price\": 1.50\n",
      "          }\n",
      "        ],\n",
      "        \"total_price\": 11.50\n",
      "      }\n",
      "    ],\n",
      "    \"toppings\": [\n",
      "      {\n",
      "        \"name\": \"Mushrooms\",\n",
      "        \"price\": 1.50\n",
      "      }\n",
      "    ],\n",
      "    \"beverages\": [],\n",
      "    \"sides\": [],\n",
      "    \"total_order_price\": 11.50\n",
      "  }\n",
      "}\n",
      "```  \n",
      "\n",
      "需要调整或添加其他菜品吗？还是直接确认订单？ 😊\n"
     ]
    }
   ],
   "source": [
    "messages =  context.copy()\n",
    "messages.append(\n",
    "{'role':'system', 'content':\"\"\"\n",
    "创建一个关于之前食品订单的JSON摘要。 逐项列出每一项的价格字段应该是：\n",
    "1) 一个比萨饼，包括配菜 \n",
    "2) 配料表\n",
    "3) 饮料表\n",
    "4) 配菜清单\n",
    "5) 总价格\n",
    "\"\"\"\n",
    " },    \n",
    ")\n",
    " #The fields should be 1) pizza, price 2) list of toppings 3) list of drinks, include size include price  4) list of sides include size include price, 5)total price '},    \n",
    "\n",
    "response = get_completion_from_messages(messages, temperature=0)\n",
    "print(response)"
   ]
  }
 ],
 "metadata": {
  "kernelspec": {
   "display_name": "llm_pytorch_0409",
   "language": "python",
   "name": "python3"
  },
  "language_info": {
   "codemirror_mode": {
    "name": "ipython",
    "version": 3
   },
   "file_extension": ".py",
   "mimetype": "text/x-python",
   "name": "python",
   "nbconvert_exporter": "python",
   "pygments_lexer": "ipython3",
   "version": "3.12.9"
  }
 },
 "nbformat": 4,
 "nbformat_minor": 5
}
